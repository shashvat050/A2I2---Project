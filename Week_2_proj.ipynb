{
 "cells": [
  {
   "cell_type": "markdown",
   "metadata": {
    "id": "0977d8ff"
   },
   "source": [
    "# W2 - part 1: Comorbidities Analysis : Gender and Age"
   ]
  },
  {
   "cell_type": "code",
   "execution_count": 1,
   "metadata": {
    "colab": {
     "base_uri": "https://localhost:8080/",
     "height": 17
    },
    "id": "94b33e51",
    "outputId": "564756d0-c42e-4a97-c98e-bcc86252cb21"
   },
   "outputs": [
    {
     "data": {
      "text/html": [
       "        <script type=\"text/javascript\">\n",
       "        window.PlotlyConfig = {MathJaxConfig: 'local'};\n",
       "        if (window.MathJax) {MathJax.Hub.Config({SVG: {font: \"STIX-Web\"}});}\n",
       "        if (typeof require !== 'undefined') {\n",
       "        require.undef(\"plotly\");\n",
       "        requirejs.config({\n",
       "            paths: {\n",
       "                'plotly': ['https://cdn.plot.ly/plotly-2.8.3.min']\n",
       "            }\n",
       "        });\n",
       "        require(['plotly'], function(Plotly) {\n",
       "            window._Plotly = Plotly;\n",
       "        });\n",
       "        }\n",
       "        </script>\n",
       "        "
      ]
     },
     "metadata": {},
     "output_type": "display_data"
    }
   ],
   "source": [
    "# Add all of your import statements here\n",
    "import numpy as np\n",
    "import pandas as pd\n",
    "%matplotlib inline\n",
    "import matplotlib.pyplot as plt\n",
    "import seaborn as sns\n",
    "import plotly as py\n",
    "import plotly.offline as py\n",
    "import plotly.graph_objs as go\n",
    "import plotly.tools as tls\n",
    "py.init_notebook_mode(connected=True)\n"
   ]
  },
  {
   "cell_type": "markdown",
   "metadata": {
    "id": "aace2c69"
   },
   "source": [
    "\n",
    "\n",
    "### Setup, Cleaning, Organizing, and Exploring the Data"
   ]
  },
  {
   "cell_type": "code",
   "execution_count": 2,
   "metadata": {
    "colab": {
     "base_uri": "https://localhost:8080/",
     "height": 297
    },
    "id": "244f4359",
    "outputId": "2a67c947-ea82-4b6f-a671-9d189402bcce"
   },
   "outputs": [
    {
     "data": {
      "text/html": [
       "\n",
       "  <div id=\"df-930d00bd-48fc-4477-96d8-0f8bf0ca1541\">\n",
       "    <div class=\"colab-df-container\">\n",
       "      <div>\n",
       "<style scoped>\n",
       "    .dataframe tbody tr th:only-of-type {\n",
       "        vertical-align: middle;\n",
       "    }\n",
       "\n",
       "    .dataframe tbody tr th {\n",
       "        vertical-align: top;\n",
       "    }\n",
       "\n",
       "    .dataframe thead th {\n",
       "        text-align: right;\n",
       "    }\n",
       "</style>\n",
       "<table border=\"1\" class=\"dataframe\">\n",
       "  <thead>\n",
       "    <tr style=\"text-align: right;\">\n",
       "      <th></th>\n",
       "      <th>Comorbidities</th>\n",
       "      <th>Total</th>\n",
       "      <th>Male-Total</th>\n",
       "      <th>M_0-14</th>\n",
       "      <th>M_15-24</th>\n",
       "      <th>M_25-34</th>\n",
       "      <th>M_35-44</th>\n",
       "      <th>M_45-54</th>\n",
       "      <th>M_55-64</th>\n",
       "      <th>M_65-74</th>\n",
       "      <th>...</th>\n",
       "      <th>Female-total</th>\n",
       "      <th>F_0-14</th>\n",
       "      <th>F_15-24</th>\n",
       "      <th>F_25-34</th>\n",
       "      <th>F_35-44</th>\n",
       "      <th>F_45-54</th>\n",
       "      <th>F_55-64</th>\n",
       "      <th>F_65-74</th>\n",
       "      <th>F_75-84</th>\n",
       "      <th>F_85</th>\n",
       "    </tr>\n",
       "  </thead>\n",
       "  <tbody>\n",
       "    <tr>\n",
       "      <th>0</th>\n",
       "      <td>Arthritis</td>\n",
       "      <td>5,18,641</td>\n",
       "      <td>1,83,276</td>\n",
       "      <td>410</td>\n",
       "      <td>1,255</td>\n",
       "      <td>4,859</td>\n",
       "      <td>9,836</td>\n",
       "      <td>20,218</td>\n",
       "      <td>38,927</td>\n",
       "      <td>52,812</td>\n",
       "      <td>...</td>\n",
       "      <td>3,35,365</td>\n",
       "      <td>447</td>\n",
       "      <td>2,041</td>\n",
       "      <td>6,777</td>\n",
       "      <td>14,795</td>\n",
       "      <td>35,893</td>\n",
       "      <td>69,851</td>\n",
       "      <td>94,887</td>\n",
       "      <td>73,573</td>\n",
       "      <td>37,101</td>\n",
       "    </tr>\n",
       "    <tr>\n",
       "      <th>1</th>\n",
       "      <td>Asthma</td>\n",
       "      <td>5,43,047</td>\n",
       "      <td>2,44,002</td>\n",
       "      <td>45,210</td>\n",
       "      <td>33,478</td>\n",
       "      <td>38,793</td>\n",
       "      <td>36,650</td>\n",
       "      <td>29,228</td>\n",
       "      <td>24,778</td>\n",
       "      <td>20,611</td>\n",
       "      <td>...</td>\n",
       "      <td>2,99,045</td>\n",
       "      <td>29,239</td>\n",
       "      <td>33,855</td>\n",
       "      <td>48,672</td>\n",
       "      <td>45,483</td>\n",
       "      <td>41,617</td>\n",
       "      <td>38,055</td>\n",
       "      <td>34,529</td>\n",
       "      <td>19,959</td>\n",
       "      <td>7,636</td>\n",
       "    </tr>\n",
       "    <tr>\n",
       "      <th>2</th>\n",
       "      <td>Cancer</td>\n",
       "      <td>1,79,304</td>\n",
       "      <td>85,362</td>\n",
       "      <td>618</td>\n",
       "      <td>758</td>\n",
       "      <td>1,719</td>\n",
       "      <td>3,080</td>\n",
       "      <td>6,378</td>\n",
       "      <td>15,458</td>\n",
       "      <td>27,387</td>\n",
       "      <td>...</td>\n",
       "      <td>93,942</td>\n",
       "      <td>478</td>\n",
       "      <td>667</td>\n",
       "      <td>2,030</td>\n",
       "      <td>5,210</td>\n",
       "      <td>12,221</td>\n",
       "      <td>20,493</td>\n",
       "      <td>26,255</td>\n",
       "      <td>18,593</td>\n",
       "      <td>7,995</td>\n",
       "    </tr>\n",
       "    <tr>\n",
       "      <th>3</th>\n",
       "      <td>Dementia</td>\n",
       "      <td>45,947</td>\n",
       "      <td>18,233</td>\n",
       "      <td>53</td>\n",
       "      <td>63</td>\n",
       "      <td>87</td>\n",
       "      <td>117</td>\n",
       "      <td>309</td>\n",
       "      <td>886</td>\n",
       "      <td>2,905</td>\n",
       "      <td>...</td>\n",
       "      <td>27,714</td>\n",
       "      <td>32</td>\n",
       "      <td>50</td>\n",
       "      <td>80</td>\n",
       "      <td>91</td>\n",
       "      <td>265</td>\n",
       "      <td>789</td>\n",
       "      <td>2,952</td>\n",
       "      <td>9,122</td>\n",
       "      <td>14,333</td>\n",
       "    </tr>\n",
       "    <tr>\n",
       "      <th>4</th>\n",
       "      <td>Diabetes</td>\n",
       "      <td>3,03,361</td>\n",
       "      <td>1,65,058</td>\n",
       "      <td>935</td>\n",
       "      <td>2,023</td>\n",
       "      <td>4,321</td>\n",
       "      <td>11,456</td>\n",
       "      <td>22,126</td>\n",
       "      <td>37,502</td>\n",
       "      <td>47,511</td>\n",
       "      <td>...</td>\n",
       "      <td>1,38,303</td>\n",
       "      <td>855</td>\n",
       "      <td>1,921</td>\n",
       "      <td>4,707</td>\n",
       "      <td>9,459</td>\n",
       "      <td>17,257</td>\n",
       "      <td>29,261</td>\n",
       "      <td>37,077</td>\n",
       "      <td>26,577</td>\n",
       "      <td>11,189</td>\n",
       "    </tr>\n",
       "  </tbody>\n",
       "</table>\n",
       "<p>5 rows × 22 columns</p>\n",
       "</div>\n",
       "      <button class=\"colab-df-convert\" onclick=\"convertToInteractive('df-930d00bd-48fc-4477-96d8-0f8bf0ca1541')\"\n",
       "              title=\"Convert this dataframe to an interactive table.\"\n",
       "              style=\"display:none;\">\n",
       "        \n",
       "  <svg xmlns=\"http://www.w3.org/2000/svg\" height=\"24px\"viewBox=\"0 0 24 24\"\n",
       "       width=\"24px\">\n",
       "    <path d=\"M0 0h24v24H0V0z\" fill=\"none\"/>\n",
       "    <path d=\"M18.56 5.44l.94 2.06.94-2.06 2.06-.94-2.06-.94-.94-2.06-.94 2.06-2.06.94zm-11 1L8.5 8.5l.94-2.06 2.06-.94-2.06-.94L8.5 2.5l-.94 2.06-2.06.94zm10 10l.94 2.06.94-2.06 2.06-.94-2.06-.94-.94-2.06-.94 2.06-2.06.94z\"/><path d=\"M17.41 7.96l-1.37-1.37c-.4-.4-.92-.59-1.43-.59-.52 0-1.04.2-1.43.59L10.3 9.45l-7.72 7.72c-.78.78-.78 2.05 0 2.83L4 21.41c.39.39.9.59 1.41.59.51 0 1.02-.2 1.41-.59l7.78-7.78 2.81-2.81c.8-.78.8-2.07 0-2.86zM5.41 20L4 18.59l7.72-7.72 1.47 1.35L5.41 20z\"/>\n",
       "  </svg>\n",
       "      </button>\n",
       "      \n",
       "  <style>\n",
       "    .colab-df-container {\n",
       "      display:flex;\n",
       "      flex-wrap:wrap;\n",
       "      gap: 12px;\n",
       "    }\n",
       "\n",
       "    .colab-df-convert {\n",
       "      background-color: #E8F0FE;\n",
       "      border: none;\n",
       "      border-radius: 50%;\n",
       "      cursor: pointer;\n",
       "      display: none;\n",
       "      fill: #1967D2;\n",
       "      height: 32px;\n",
       "      padding: 0 0 0 0;\n",
       "      width: 32px;\n",
       "    }\n",
       "\n",
       "    .colab-df-convert:hover {\n",
       "      background-color: #E2EBFA;\n",
       "      box-shadow: 0px 1px 2px rgba(60, 64, 67, 0.3), 0px 1px 3px 1px rgba(60, 64, 67, 0.15);\n",
       "      fill: #174EA6;\n",
       "    }\n",
       "\n",
       "    [theme=dark] .colab-df-convert {\n",
       "      background-color: #3B4455;\n",
       "      fill: #D2E3FC;\n",
       "    }\n",
       "\n",
       "    [theme=dark] .colab-df-convert:hover {\n",
       "      background-color: #434B5C;\n",
       "      box-shadow: 0px 1px 3px 1px rgba(0, 0, 0, 0.15);\n",
       "      filter: drop-shadow(0px 1px 2px rgba(0, 0, 0, 0.3));\n",
       "      fill: #FFFFFF;\n",
       "    }\n",
       "  </style>\n",
       "\n",
       "      <script>\n",
       "        const buttonEl =\n",
       "          document.querySelector('#df-930d00bd-48fc-4477-96d8-0f8bf0ca1541 button.colab-df-convert');\n",
       "        buttonEl.style.display =\n",
       "          google.colab.kernel.accessAllowed ? 'block' : 'none';\n",
       "\n",
       "        async function convertToInteractive(key) {\n",
       "          const element = document.querySelector('#df-930d00bd-48fc-4477-96d8-0f8bf0ca1541');\n",
       "          const dataTable =\n",
       "            await google.colab.kernel.invokeFunction('convertToInteractive',\n",
       "                                                     [key], {});\n",
       "          if (!dataTable) return;\n",
       "\n",
       "          const docLinkHtml = 'Like what you see? Visit the ' +\n",
       "            '<a target=\"_blank\" href=https://colab.research.google.com/notebooks/data_table.ipynb>data table notebook</a>'\n",
       "            + ' to learn more about interactive tables.';\n",
       "          element.innerHTML = '';\n",
       "          dataTable['output_type'] = 'display_data';\n",
       "          await google.colab.output.renderOutput(dataTable, element);\n",
       "          const docLink = document.createElement('div');\n",
       "          docLink.innerHTML = docLinkHtml;\n",
       "          element.appendChild(docLink);\n",
       "        }\n",
       "      </script>\n",
       "    </div>\n",
       "  </div>\n",
       "  "
      ],
      "text/plain": [
       "  Comorbidities     Total Male-Total M_0-14  M_15-24  M_25-34  M_35-44   \\\n",
       "0    Arthritis   5,18,641   1,83,276     410    1,255    4,859    9,836   \n",
       "1       Asthma   5,43,047   2,44,002  45,210   33,478   38,793   36,650   \n",
       "2        Cancer  1,79,304     85,362     618      758    1,719    3,080   \n",
       "3      Dementia    45,947     18,233      53       63       87      117   \n",
       "4      Diabetes  3,03,361   1,65,058     935    2,023    4,321   11,456   \n",
       "\n",
       "  M_45-54  M_55-64  M_65-74   ... Female-total F_0-14  F_15-24  F_25-34   \\\n",
       "0   20,218   38,927   52,812  ...     3,35,365     447    2,041    6,777   \n",
       "1   29,228   24,778   20,611  ...     2,99,045  29,239   33,855   48,672   \n",
       "2    6,378   15,458   27,387  ...       93,942     478      667    2,030   \n",
       "3      309      886    2,905  ...       27,714      32       50       80   \n",
       "4   22,126   37,502   47,511  ...     1,38,303     855    1,921    4,707   \n",
       "\n",
       "  F_35-44  F_45-54  F_55-64  F_65-74  F_75-84     F_85  \n",
       "0   14,795   35,893   69,851   94,887   73,573  37,101  \n",
       "1   45,483   41,617   38,055   34,529   19,959   7,636  \n",
       "2    5,210   12,221   20,493   26,255   18,593   7,995  \n",
       "3       91      265      789    2,952    9,122  14,333  \n",
       "4    9,459   17,257   29,261   37,077   26,577  11,189  \n",
       "\n",
       "[5 rows x 22 columns]"
      ]
     },
     "execution_count": 2,
     "metadata": {},
     "output_type": "execute_result"
    }
   ],
   "source": [
    "#read in the data\n",
    "df_G19_analysis = pd.read_csv('G19_analysis.csv')\n",
    "#drop the NAs\n",
    "#df = df.dropna()\n",
    "#show the head\n",
    "df_G19_analysis.head()"
   ]
  },
  {
   "cell_type": "code",
   "execution_count": 3,
   "metadata": {
    "id": "1ceaef09"
   },
   "outputs": [],
   "source": [
    "# setting first name as index column\n",
    "df = df_G19_analysis.set_index(\"Comorbidities\")"
   ]
  },
  {
   "cell_type": "code",
   "execution_count": 4,
   "metadata": {
    "id": "87130b0a"
   },
   "outputs": [],
   "source": [
    "cols = df.columns"
   ]
  },
  {
   "cell_type": "code",
   "execution_count": 5,
   "metadata": {
    "id": "8c657fea"
   },
   "outputs": [],
   "source": [
    "# Removing commas\n",
    "df[cols] = df[cols].replace({'\\$': '', ',': ''}, regex=True)"
   ]
  },
  {
   "cell_type": "code",
   "execution_count": 6,
   "metadata": {
    "colab": {
     "base_uri": "https://localhost:8080/",
     "height": 579
    },
    "id": "b064667d",
    "outputId": "2be2c991-e81a-4332-a147-1ce882bd4b3f"
   },
   "outputs": [
    {
     "data": {
      "text/html": [
       "\n",
       "  <div id=\"df-e9571173-6341-4900-bb3c-df902de7319e\">\n",
       "    <div class=\"colab-df-container\">\n",
       "      <div>\n",
       "<style scoped>\n",
       "    .dataframe tbody tr th:only-of-type {\n",
       "        vertical-align: middle;\n",
       "    }\n",
       "\n",
       "    .dataframe tbody tr th {\n",
       "        vertical-align: top;\n",
       "    }\n",
       "\n",
       "    .dataframe thead th {\n",
       "        text-align: right;\n",
       "    }\n",
       "</style>\n",
       "<table border=\"1\" class=\"dataframe\">\n",
       "  <thead>\n",
       "    <tr style=\"text-align: right;\">\n",
       "      <th></th>\n",
       "      <th>Total</th>\n",
       "      <th>Male-Total</th>\n",
       "      <th>M_0-14</th>\n",
       "      <th>M_15-24</th>\n",
       "      <th>M_25-34</th>\n",
       "      <th>M_35-44</th>\n",
       "      <th>M_45-54</th>\n",
       "      <th>M_55-64</th>\n",
       "      <th>M_65-74</th>\n",
       "      <th>M_75-84</th>\n",
       "      <th>...</th>\n",
       "      <th>Female-total</th>\n",
       "      <th>F_0-14</th>\n",
       "      <th>F_15-24</th>\n",
       "      <th>F_25-34</th>\n",
       "      <th>F_35-44</th>\n",
       "      <th>F_45-54</th>\n",
       "      <th>F_55-64</th>\n",
       "      <th>F_65-74</th>\n",
       "      <th>F_75-84</th>\n",
       "      <th>F_85</th>\n",
       "    </tr>\n",
       "    <tr>\n",
       "      <th>Comorbidities</th>\n",
       "      <th></th>\n",
       "      <th></th>\n",
       "      <th></th>\n",
       "      <th></th>\n",
       "      <th></th>\n",
       "      <th></th>\n",
       "      <th></th>\n",
       "      <th></th>\n",
       "      <th></th>\n",
       "      <th></th>\n",
       "      <th></th>\n",
       "      <th></th>\n",
       "      <th></th>\n",
       "      <th></th>\n",
       "      <th></th>\n",
       "      <th></th>\n",
       "      <th></th>\n",
       "      <th></th>\n",
       "      <th></th>\n",
       "      <th></th>\n",
       "      <th></th>\n",
       "    </tr>\n",
       "  </thead>\n",
       "  <tbody>\n",
       "    <tr>\n",
       "      <th>Arthritis</th>\n",
       "      <td>518641</td>\n",
       "      <td>183276</td>\n",
       "      <td>410</td>\n",
       "      <td>1255</td>\n",
       "      <td>4859</td>\n",
       "      <td>9836</td>\n",
       "      <td>20218</td>\n",
       "      <td>38927</td>\n",
       "      <td>52812</td>\n",
       "      <td>39517</td>\n",
       "      <td>...</td>\n",
       "      <td>335365</td>\n",
       "      <td>447</td>\n",
       "      <td>2041</td>\n",
       "      <td>6777</td>\n",
       "      <td>14795</td>\n",
       "      <td>35893</td>\n",
       "      <td>69851</td>\n",
       "      <td>94887</td>\n",
       "      <td>73573</td>\n",
       "      <td>37101</td>\n",
       "    </tr>\n",
       "    <tr>\n",
       "      <th>Asthma</th>\n",
       "      <td>543047</td>\n",
       "      <td>244002</td>\n",
       "      <td>45210</td>\n",
       "      <td>33478</td>\n",
       "      <td>38793</td>\n",
       "      <td>36650</td>\n",
       "      <td>29228</td>\n",
       "      <td>24778</td>\n",
       "      <td>20611</td>\n",
       "      <td>11553</td>\n",
       "      <td>...</td>\n",
       "      <td>299045</td>\n",
       "      <td>29239</td>\n",
       "      <td>33855</td>\n",
       "      <td>48672</td>\n",
       "      <td>45483</td>\n",
       "      <td>41617</td>\n",
       "      <td>38055</td>\n",
       "      <td>34529</td>\n",
       "      <td>19959</td>\n",
       "      <td>7636</td>\n",
       "    </tr>\n",
       "    <tr>\n",
       "      <th>Cancer</th>\n",
       "      <td>179304</td>\n",
       "      <td>85362</td>\n",
       "      <td>618</td>\n",
       "      <td>758</td>\n",
       "      <td>1719</td>\n",
       "      <td>3080</td>\n",
       "      <td>6378</td>\n",
       "      <td>15458</td>\n",
       "      <td>27387</td>\n",
       "      <td>22150</td>\n",
       "      <td>...</td>\n",
       "      <td>93942</td>\n",
       "      <td>478</td>\n",
       "      <td>667</td>\n",
       "      <td>2030</td>\n",
       "      <td>5210</td>\n",
       "      <td>12221</td>\n",
       "      <td>20493</td>\n",
       "      <td>26255</td>\n",
       "      <td>18593</td>\n",
       "      <td>7995</td>\n",
       "    </tr>\n",
       "    <tr>\n",
       "      <th>Dementia</th>\n",
       "      <td>45947</td>\n",
       "      <td>18233</td>\n",
       "      <td>53</td>\n",
       "      <td>63</td>\n",
       "      <td>87</td>\n",
       "      <td>117</td>\n",
       "      <td>309</td>\n",
       "      <td>886</td>\n",
       "      <td>2905</td>\n",
       "      <td>7107</td>\n",
       "      <td>...</td>\n",
       "      <td>27714</td>\n",
       "      <td>32</td>\n",
       "      <td>50</td>\n",
       "      <td>80</td>\n",
       "      <td>91</td>\n",
       "      <td>265</td>\n",
       "      <td>789</td>\n",
       "      <td>2952</td>\n",
       "      <td>9122</td>\n",
       "      <td>14333</td>\n",
       "    </tr>\n",
       "    <tr>\n",
       "      <th>Diabetes</th>\n",
       "      <td>303361</td>\n",
       "      <td>165058</td>\n",
       "      <td>935</td>\n",
       "      <td>2023</td>\n",
       "      <td>4321</td>\n",
       "      <td>11456</td>\n",
       "      <td>22126</td>\n",
       "      <td>37502</td>\n",
       "      <td>47511</td>\n",
       "      <td>30424</td>\n",
       "      <td>...</td>\n",
       "      <td>138303</td>\n",
       "      <td>855</td>\n",
       "      <td>1921</td>\n",
       "      <td>4707</td>\n",
       "      <td>9459</td>\n",
       "      <td>17257</td>\n",
       "      <td>29261</td>\n",
       "      <td>37077</td>\n",
       "      <td>26577</td>\n",
       "      <td>11189</td>\n",
       "    </tr>\n",
       "    <tr>\n",
       "      <th>Heartdisease</th>\n",
       "      <td>243140</td>\n",
       "      <td>147202</td>\n",
       "      <td>1198</td>\n",
       "      <td>930</td>\n",
       "      <td>1582</td>\n",
       "      <td>3686</td>\n",
       "      <td>11224</td>\n",
       "      <td>28244</td>\n",
       "      <td>46628</td>\n",
       "      <td>37926</td>\n",
       "      <td>...</td>\n",
       "      <td>95938</td>\n",
       "      <td>895</td>\n",
       "      <td>830</td>\n",
       "      <td>1503</td>\n",
       "      <td>2287</td>\n",
       "      <td>5641</td>\n",
       "      <td>13412</td>\n",
       "      <td>24863</td>\n",
       "      <td>27180</td>\n",
       "      <td>19327</td>\n",
       "    </tr>\n",
       "    <tr>\n",
       "      <th>KidneyDisease</th>\n",
       "      <td>57439</td>\n",
       "      <td>29516</td>\n",
       "      <td>783</td>\n",
       "      <td>547</td>\n",
       "      <td>963</td>\n",
       "      <td>1585</td>\n",
       "      <td>2681</td>\n",
       "      <td>4705</td>\n",
       "      <td>7426</td>\n",
       "      <td>7257</td>\n",
       "      <td>...</td>\n",
       "      <td>27923</td>\n",
       "      <td>463</td>\n",
       "      <td>520</td>\n",
       "      <td>1098</td>\n",
       "      <td>1680</td>\n",
       "      <td>2669</td>\n",
       "      <td>4133</td>\n",
       "      <td>6009</td>\n",
       "      <td>6639</td>\n",
       "      <td>4712</td>\n",
       "    </tr>\n",
       "    <tr>\n",
       "      <th>LungCondition</th>\n",
       "      <td>97268</td>\n",
       "      <td>46888</td>\n",
       "      <td>613</td>\n",
       "      <td>463</td>\n",
       "      <td>832</td>\n",
       "      <td>1486</td>\n",
       "      <td>3538</td>\n",
       "      <td>8685</td>\n",
       "      <td>14195</td>\n",
       "      <td>12297</td>\n",
       "      <td>...</td>\n",
       "      <td>50380</td>\n",
       "      <td>479</td>\n",
       "      <td>394</td>\n",
       "      <td>781</td>\n",
       "      <td>1586</td>\n",
       "      <td>4402</td>\n",
       "      <td>9677</td>\n",
       "      <td>15113</td>\n",
       "      <td>12375</td>\n",
       "      <td>5573</td>\n",
       "    </tr>\n",
       "    <tr>\n",
       "      <th>MentalHealthCcondition</th>\n",
       "      <td>571147</td>\n",
       "      <td>218697</td>\n",
       "      <td>12163</td>\n",
       "      <td>27959</td>\n",
       "      <td>39367</td>\n",
       "      <td>36857</td>\n",
       "      <td>35985</td>\n",
       "      <td>31057</td>\n",
       "      <td>20742</td>\n",
       "      <td>10140</td>\n",
       "      <td>...</td>\n",
       "      <td>352450</td>\n",
       "      <td>10940</td>\n",
       "      <td>54335</td>\n",
       "      <td>71535</td>\n",
       "      <td>57757</td>\n",
       "      <td>54270</td>\n",
       "      <td>46425</td>\n",
       "      <td>29637</td>\n",
       "      <td>16102</td>\n",
       "      <td>11449</td>\n",
       "    </tr>\n",
       "    <tr>\n",
       "      <th>Stroke</th>\n",
       "      <td>59835</td>\n",
       "      <td>32507</td>\n",
       "      <td>253</td>\n",
       "      <td>211</td>\n",
       "      <td>383</td>\n",
       "      <td>890</td>\n",
       "      <td>2427</td>\n",
       "      <td>5337</td>\n",
       "      <td>9308</td>\n",
       "      <td>9305</td>\n",
       "      <td>...</td>\n",
       "      <td>27328</td>\n",
       "      <td>146</td>\n",
       "      <td>211</td>\n",
       "      <td>452</td>\n",
       "      <td>974</td>\n",
       "      <td>2328</td>\n",
       "      <td>3928</td>\n",
       "      <td>6345</td>\n",
       "      <td>7309</td>\n",
       "      <td>5635</td>\n",
       "    </tr>\n",
       "    <tr>\n",
       "      <th>OtherLongTermHhealthCond</th>\n",
       "      <td>519096</td>\n",
       "      <td>223691</td>\n",
       "      <td>27334</td>\n",
       "      <td>18338</td>\n",
       "      <td>20709</td>\n",
       "      <td>25502</td>\n",
       "      <td>31520</td>\n",
       "      <td>38470</td>\n",
       "      <td>33582</td>\n",
       "      <td>19321</td>\n",
       "      <td>...</td>\n",
       "      <td>295405</td>\n",
       "      <td>17680</td>\n",
       "      <td>21798</td>\n",
       "      <td>35211</td>\n",
       "      <td>37953</td>\n",
       "      <td>44184</td>\n",
       "      <td>49594</td>\n",
       "      <td>43340</td>\n",
       "      <td>27448</td>\n",
       "      <td>18197</td>\n",
       "    </tr>\n",
       "    <tr>\n",
       "      <th>NoLongTermHhealthCond</th>\n",
       "      <td>3969509</td>\n",
       "      <td>2015364</td>\n",
       "      <td>475292</td>\n",
       "      <td>291879</td>\n",
       "      <td>349558</td>\n",
       "      <td>313704</td>\n",
       "      <td>248948</td>\n",
       "      <td>181249</td>\n",
       "      <td>104260</td>\n",
       "      <td>40527</td>\n",
       "      <td>...</td>\n",
       "      <td>1954145</td>\n",
       "      <td>470046</td>\n",
       "      <td>255064</td>\n",
       "      <td>326967</td>\n",
       "      <td>303869</td>\n",
       "      <td>246497</td>\n",
       "      <td>183822</td>\n",
       "      <td>111702</td>\n",
       "      <td>43632</td>\n",
       "      <td>12546</td>\n",
       "    </tr>\n",
       "    <tr>\n",
       "      <th>NotStated</th>\n",
       "      <td>492711</td>\n",
       "      <td>252985</td>\n",
       "      <td>46401</td>\n",
       "      <td>32545</td>\n",
       "      <td>40322</td>\n",
       "      <td>35388</td>\n",
       "      <td>32599</td>\n",
       "      <td>27614</td>\n",
       "      <td>20202</td>\n",
       "      <td>12355</td>\n",
       "      <td>...</td>\n",
       "      <td>239726</td>\n",
       "      <td>43928</td>\n",
       "      <td>28441</td>\n",
       "      <td>35234</td>\n",
       "      <td>32058</td>\n",
       "      <td>29580</td>\n",
       "      <td>25934</td>\n",
       "      <td>21153</td>\n",
       "      <td>14116</td>\n",
       "      <td>9282</td>\n",
       "    </tr>\n",
       "  </tbody>\n",
       "</table>\n",
       "<p>13 rows × 21 columns</p>\n",
       "</div>\n",
       "      <button class=\"colab-df-convert\" onclick=\"convertToInteractive('df-e9571173-6341-4900-bb3c-df902de7319e')\"\n",
       "              title=\"Convert this dataframe to an interactive table.\"\n",
       "              style=\"display:none;\">\n",
       "        \n",
       "  <svg xmlns=\"http://www.w3.org/2000/svg\" height=\"24px\"viewBox=\"0 0 24 24\"\n",
       "       width=\"24px\">\n",
       "    <path d=\"M0 0h24v24H0V0z\" fill=\"none\"/>\n",
       "    <path d=\"M18.56 5.44l.94 2.06.94-2.06 2.06-.94-2.06-.94-.94-2.06-.94 2.06-2.06.94zm-11 1L8.5 8.5l.94-2.06 2.06-.94-2.06-.94L8.5 2.5l-.94 2.06-2.06.94zm10 10l.94 2.06.94-2.06 2.06-.94-2.06-.94-.94-2.06-.94 2.06-2.06.94z\"/><path d=\"M17.41 7.96l-1.37-1.37c-.4-.4-.92-.59-1.43-.59-.52 0-1.04.2-1.43.59L10.3 9.45l-7.72 7.72c-.78.78-.78 2.05 0 2.83L4 21.41c.39.39.9.59 1.41.59.51 0 1.02-.2 1.41-.59l7.78-7.78 2.81-2.81c.8-.78.8-2.07 0-2.86zM5.41 20L4 18.59l7.72-7.72 1.47 1.35L5.41 20z\"/>\n",
       "  </svg>\n",
       "      </button>\n",
       "      \n",
       "  <style>\n",
       "    .colab-df-container {\n",
       "      display:flex;\n",
       "      flex-wrap:wrap;\n",
       "      gap: 12px;\n",
       "    }\n",
       "\n",
       "    .colab-df-convert {\n",
       "      background-color: #E8F0FE;\n",
       "      border: none;\n",
       "      border-radius: 50%;\n",
       "      cursor: pointer;\n",
       "      display: none;\n",
       "      fill: #1967D2;\n",
       "      height: 32px;\n",
       "      padding: 0 0 0 0;\n",
       "      width: 32px;\n",
       "    }\n",
       "\n",
       "    .colab-df-convert:hover {\n",
       "      background-color: #E2EBFA;\n",
       "      box-shadow: 0px 1px 2px rgba(60, 64, 67, 0.3), 0px 1px 3px 1px rgba(60, 64, 67, 0.15);\n",
       "      fill: #174EA6;\n",
       "    }\n",
       "\n",
       "    [theme=dark] .colab-df-convert {\n",
       "      background-color: #3B4455;\n",
       "      fill: #D2E3FC;\n",
       "    }\n",
       "\n",
       "    [theme=dark] .colab-df-convert:hover {\n",
       "      background-color: #434B5C;\n",
       "      box-shadow: 0px 1px 3px 1px rgba(0, 0, 0, 0.15);\n",
       "      filter: drop-shadow(0px 1px 2px rgba(0, 0, 0, 0.3));\n",
       "      fill: #FFFFFF;\n",
       "    }\n",
       "  </style>\n",
       "\n",
       "      <script>\n",
       "        const buttonEl =\n",
       "          document.querySelector('#df-e9571173-6341-4900-bb3c-df902de7319e button.colab-df-convert');\n",
       "        buttonEl.style.display =\n",
       "          google.colab.kernel.accessAllowed ? 'block' : 'none';\n",
       "\n",
       "        async function convertToInteractive(key) {\n",
       "          const element = document.querySelector('#df-e9571173-6341-4900-bb3c-df902de7319e');\n",
       "          const dataTable =\n",
       "            await google.colab.kernel.invokeFunction('convertToInteractive',\n",
       "                                                     [key], {});\n",
       "          if (!dataTable) return;\n",
       "\n",
       "          const docLinkHtml = 'Like what you see? Visit the ' +\n",
       "            '<a target=\"_blank\" href=https://colab.research.google.com/notebooks/data_table.ipynb>data table notebook</a>'\n",
       "            + ' to learn more about interactive tables.';\n",
       "          element.innerHTML = '';\n",
       "          dataTable['output_type'] = 'display_data';\n",
       "          await google.colab.output.renderOutput(dataTable, element);\n",
       "          const docLink = document.createElement('div');\n",
       "          docLink.innerHTML = docLinkHtml;\n",
       "          element.appendChild(docLink);\n",
       "        }\n",
       "      </script>\n",
       "    </div>\n",
       "  </div>\n",
       "  "
      ],
      "text/plain": [
       "                            Total Male-Total M_0-14  M_15-24  M_25-34   \\\n",
       "Comorbidities                                                            \n",
       "Arthritis                  518641     183276     410     1255     4859   \n",
       "Asthma                     543047     244002   45210    33478    38793   \n",
       "Cancer                     179304      85362     618      758     1719   \n",
       "Dementia                    45947      18233      53       63       87   \n",
       "Diabetes                   303361     165058     935     2023     4321   \n",
       "Heartdisease               243140     147202    1198      930     1582   \n",
       "KidneyDisease               57439      29516     783      547      963   \n",
       "LungCondition               97268      46888     613      463      832   \n",
       "MentalHealthCcondition     571147     218697   12163    27959    39367   \n",
       "Stroke                      59835      32507     253      211      383   \n",
       "OtherLongTermHhealthCond   519096     223691   27334    18338    20709   \n",
       "NoLongTermHhealthCond     3969509    2015364  475292   291879   349558   \n",
       "NotStated                  492711     252985   46401    32545    40322   \n",
       "\n",
       "                         M_35-44  M_45-54  M_55-64  M_65-74  M_75-84   ...  \\\n",
       "Comorbidities                                                          ...   \n",
       "Arthritis                    9836    20218    38927    52812    39517  ...   \n",
       "Asthma                      36650    29228    24778    20611    11553  ...   \n",
       "Cancer                       3080     6378    15458    27387    22150  ...   \n",
       "Dementia                      117      309      886     2905     7107  ...   \n",
       "Diabetes                    11456    22126    37502    47511    30424  ...   \n",
       "Heartdisease                 3686    11224    28244    46628    37926  ...   \n",
       "KidneyDisease                1585     2681     4705     7426     7257  ...   \n",
       "LungCondition                1486     3538     8685    14195    12297  ...   \n",
       "MentalHealthCcondition      36857    35985    31057    20742    10140  ...   \n",
       "Stroke                        890     2427     5337     9308     9305  ...   \n",
       "OtherLongTermHhealthCond    25502    31520    38470    33582    19321  ...   \n",
       "NoLongTermHhealthCond      313704   248948   181249   104260    40527  ...   \n",
       "NotStated                   35388    32599    27614    20202    12355  ...   \n",
       "\n",
       "                         Female-total F_0-14  F_15-24  F_25-34  F_35-44   \\\n",
       "Comorbidities                                                              \n",
       "Arthritis                      335365     447     2041     6777    14795   \n",
       "Asthma                         299045   29239    33855    48672    45483   \n",
       "Cancer                          93942     478      667     2030     5210   \n",
       "Dementia                        27714      32       50       80       91   \n",
       "Diabetes                       138303     855     1921     4707     9459   \n",
       "Heartdisease                    95938     895      830     1503     2287   \n",
       "KidneyDisease                   27923     463      520     1098     1680   \n",
       "LungCondition                   50380     479      394      781     1586   \n",
       "MentalHealthCcondition         352450   10940    54335    71535    57757   \n",
       "Stroke                          27328     146      211      452      974   \n",
       "OtherLongTermHhealthCond       295405   17680    21798    35211    37953   \n",
       "NoLongTermHhealthCond         1954145  470046   255064   326967   303869   \n",
       "NotStated                      239726   43928    28441    35234    32058   \n",
       "\n",
       "                         F_45-54  F_55-64  F_65-74  F_75-84    F_85  \n",
       "Comorbidities                                                        \n",
       "Arthritis                   35893    69851    94887    73573  37101  \n",
       "Asthma                      41617    38055    34529    19959   7636  \n",
       "Cancer                      12221    20493    26255    18593   7995  \n",
       "Dementia                      265      789     2952     9122  14333  \n",
       "Diabetes                    17257    29261    37077    26577  11189  \n",
       "Heartdisease                 5641    13412    24863    27180  19327  \n",
       "KidneyDisease                2669     4133     6009     6639   4712  \n",
       "LungCondition                4402     9677    15113    12375   5573  \n",
       "MentalHealthCcondition      54270    46425    29637    16102  11449  \n",
       "Stroke                       2328     3928     6345     7309   5635  \n",
       "OtherLongTermHhealthCond    44184    49594    43340    27448  18197  \n",
       "NoLongTermHhealthCond      246497   183822   111702    43632  12546  \n",
       "NotStated                   29580    25934    21153    14116   9282  \n",
       "\n",
       "[13 rows x 21 columns]"
      ]
     },
     "execution_count": 6,
     "metadata": {},
     "output_type": "execute_result"
    }
   ],
   "source": [
    "df"
   ]
  },
  {
   "cell_type": "code",
   "execution_count": 7,
   "metadata": {
    "colab": {
     "base_uri": "https://localhost:8080/"
    },
    "id": "12aa086a",
    "outputId": "0942e88e-25c6-405e-f49b-fc765802e7f1"
   },
   "outputs": [
    {
     "name": "stdout",
     "output_type": "stream",
     "text": [
      "<class 'pandas.core.frame.DataFrame'>\n",
      "Index: 13 entries, Arthritis  to NotStated\n",
      "Data columns (total 21 columns):\n",
      " #   Column        Non-Null Count  Dtype \n",
      "---  ------        --------------  ----- \n",
      " 0   Total         13 non-null     object\n",
      " 1   Male-Total    13 non-null     object\n",
      " 2   M_0-14        13 non-null     object\n",
      " 3   M_15-24       13 non-null     object\n",
      " 4   M_25-34       13 non-null     object\n",
      " 5   M_35-44       13 non-null     object\n",
      " 6   M_45-54       13 non-null     object\n",
      " 7   M_55-64       13 non-null     object\n",
      " 8   M_65-74       13 non-null     object\n",
      " 9   M_75-84       13 non-null     object\n",
      " 10  M_85          13 non-null     object\n",
      " 11  Female-total  13 non-null     object\n",
      " 12  F_0-14        13 non-null     object\n",
      " 13  F_15-24       13 non-null     object\n",
      " 14  F_25-34       13 non-null     object\n",
      " 15  F_35-44       13 non-null     object\n",
      " 16  F_45-54       13 non-null     object\n",
      " 17  F_55-64       13 non-null     object\n",
      " 18  F_65-74       13 non-null     object\n",
      " 19  F_75-84       13 non-null     object\n",
      " 20  F_85          13 non-null     object\n",
      "dtypes: object(21)\n",
      "memory usage: 2.2+ KB\n"
     ]
    }
   ],
   "source": [
    "df.info()"
   ]
  },
  {
   "cell_type": "code",
   "execution_count": 8,
   "metadata": {
    "id": "9ac0e840"
   },
   "outputs": [],
   "source": [
    "#Changing the categorical to numeric \n",
    "\n",
    "df[cols] = df[cols].astype('int64')"
   ]
  },
  {
   "cell_type": "markdown",
   "metadata": {
    "id": "87de50c3"
   },
   "source": [
    "### Distribution of data "
   ]
  },
  {
   "cell_type": "code",
   "execution_count": 9,
   "metadata": {
    "colab": {
     "base_uri": "https://localhost:8080/",
     "height": 411
    },
    "id": "363c3c03",
    "outputId": "773f0be6-ced9-4eb0-a5b1-bc30526307cd"
   },
   "outputs": [
    {
     "data": {
      "text/html": [
       "\n",
       "  <div id=\"df-5ce78630-0251-4814-926f-d0d12d2db4fb\">\n",
       "    <div class=\"colab-df-container\">\n",
       "      <div>\n",
       "<style scoped>\n",
       "    .dataframe tbody tr th:only-of-type {\n",
       "        vertical-align: middle;\n",
       "    }\n",
       "\n",
       "    .dataframe tbody tr th {\n",
       "        vertical-align: top;\n",
       "    }\n",
       "\n",
       "    .dataframe thead th {\n",
       "        text-align: right;\n",
       "    }\n",
       "</style>\n",
       "<table border=\"1\" class=\"dataframe\">\n",
       "  <thead>\n",
       "    <tr style=\"text-align: right;\">\n",
       "      <th></th>\n",
       "      <th>Total</th>\n",
       "      <th>Male-Total</th>\n",
       "      <th>M_0-14</th>\n",
       "      <th>M_15-24</th>\n",
       "      <th>M_25-34</th>\n",
       "      <th>M_35-44</th>\n",
       "      <th>M_45-54</th>\n",
       "      <th>M_55-64</th>\n",
       "      <th>M_65-74</th>\n",
       "      <th>M_75-84</th>\n",
       "      <th>...</th>\n",
       "      <th>Female-total</th>\n",
       "      <th>F_0-14</th>\n",
       "      <th>F_15-24</th>\n",
       "      <th>F_25-34</th>\n",
       "      <th>F_35-44</th>\n",
       "      <th>F_45-54</th>\n",
       "      <th>F_55-64</th>\n",
       "      <th>F_65-74</th>\n",
       "      <th>F_75-84</th>\n",
       "      <th>F_85</th>\n",
       "    </tr>\n",
       "  </thead>\n",
       "  <tbody>\n",
       "    <tr>\n",
       "      <th>count</th>\n",
       "      <td>1.300000e+01</td>\n",
       "      <td>1.300000e+01</td>\n",
       "      <td>13.000000</td>\n",
       "      <td>13.000000</td>\n",
       "      <td>13.000000</td>\n",
       "      <td>13.000000</td>\n",
       "      <td>13.000000</td>\n",
       "      <td>13.000000</td>\n",
       "      <td>13.000000</td>\n",
       "      <td>13.000000</td>\n",
       "      <td>...</td>\n",
       "      <td>1.300000e+01</td>\n",
       "      <td>13.000000</td>\n",
       "      <td>13.000000</td>\n",
       "      <td>13.000000</td>\n",
       "      <td>13.000000</td>\n",
       "      <td>13.000000</td>\n",
       "      <td>13.000000</td>\n",
       "      <td>13.000000</td>\n",
       "      <td>13.000000</td>\n",
       "      <td>13.000000</td>\n",
       "    </tr>\n",
       "    <tr>\n",
       "      <th>mean</th>\n",
       "      <td>5.846496e+05</td>\n",
       "      <td>2.817524e+05</td>\n",
       "      <td>47020.230769</td>\n",
       "      <td>31573.000000</td>\n",
       "      <td>38730.384615</td>\n",
       "      <td>36941.307692</td>\n",
       "      <td>34398.538462</td>\n",
       "      <td>34070.153846</td>\n",
       "      <td>31351.461538</td>\n",
       "      <td>19990.692308</td>\n",
       "      <td>...</td>\n",
       "      <td>3.028972e+05</td>\n",
       "      <td>44279.076923</td>\n",
       "      <td>30779.000000</td>\n",
       "      <td>41157.461538</td>\n",
       "      <td>39477.076923</td>\n",
       "      <td>38217.230769</td>\n",
       "      <td>38105.692308</td>\n",
       "      <td>34912.461538</td>\n",
       "      <td>23278.846154</td>\n",
       "      <td>12690.384615</td>\n",
       "    </tr>\n",
       "    <tr>\n",
       "      <th>std</th>\n",
       "      <td>1.037524e+06</td>\n",
       "      <td>5.279952e+05</td>\n",
       "      <td>129825.766606</td>\n",
       "      <td>79340.959832</td>\n",
       "      <td>94802.046709</td>\n",
       "      <td>84424.782286</td>\n",
       "      <td>65757.642624</td>\n",
       "      <td>46248.693583</td>\n",
       "      <td>27088.621832</td>\n",
       "      <td>12802.033858</td>\n",
       "      <td>...</td>\n",
       "      <td>5.114372e+05</td>\n",
       "      <td>128670.848299</td>\n",
       "      <td>69602.498797</td>\n",
       "      <td>88942.960002</td>\n",
       "      <td>81800.778403</td>\n",
       "      <td>65241.359318</td>\n",
       "      <td>48400.714649</td>\n",
       "      <td>32948.862493</td>\n",
       "      <td>18273.171294</td>\n",
       "      <td>8660.545629</td>\n",
       "    </tr>\n",
       "    <tr>\n",
       "      <th>min</th>\n",
       "      <td>4.594700e+04</td>\n",
       "      <td>1.823300e+04</td>\n",
       "      <td>53.000000</td>\n",
       "      <td>63.000000</td>\n",
       "      <td>87.000000</td>\n",
       "      <td>117.000000</td>\n",
       "      <td>309.000000</td>\n",
       "      <td>886.000000</td>\n",
       "      <td>2905.000000</td>\n",
       "      <td>7107.000000</td>\n",
       "      <td>...</td>\n",
       "      <td>2.732800e+04</td>\n",
       "      <td>32.000000</td>\n",
       "      <td>50.000000</td>\n",
       "      <td>80.000000</td>\n",
       "      <td>91.000000</td>\n",
       "      <td>265.000000</td>\n",
       "      <td>789.000000</td>\n",
       "      <td>2952.000000</td>\n",
       "      <td>6639.000000</td>\n",
       "      <td>4712.000000</td>\n",
       "    </tr>\n",
       "    <tr>\n",
       "      <th>25%</th>\n",
       "      <td>9.726800e+04</td>\n",
       "      <td>4.688800e+04</td>\n",
       "      <td>613.000000</td>\n",
       "      <td>547.000000</td>\n",
       "      <td>963.000000</td>\n",
       "      <td>1585.000000</td>\n",
       "      <td>3538.000000</td>\n",
       "      <td>8685.000000</td>\n",
       "      <td>14195.000000</td>\n",
       "      <td>10140.000000</td>\n",
       "      <td>...</td>\n",
       "      <td>5.038000e+04</td>\n",
       "      <td>463.000000</td>\n",
       "      <td>520.000000</td>\n",
       "      <td>1098.000000</td>\n",
       "      <td>1680.000000</td>\n",
       "      <td>4402.000000</td>\n",
       "      <td>9677.000000</td>\n",
       "      <td>15113.000000</td>\n",
       "      <td>12375.000000</td>\n",
       "      <td>7636.000000</td>\n",
       "    </tr>\n",
       "    <tr>\n",
       "      <th>50%</th>\n",
       "      <td>3.033610e+05</td>\n",
       "      <td>1.650580e+05</td>\n",
       "      <td>935.000000</td>\n",
       "      <td>1255.000000</td>\n",
       "      <td>4321.000000</td>\n",
       "      <td>9836.000000</td>\n",
       "      <td>20218.000000</td>\n",
       "      <td>27614.000000</td>\n",
       "      <td>20742.000000</td>\n",
       "      <td>12355.000000</td>\n",
       "      <td>...</td>\n",
       "      <td>1.383030e+05</td>\n",
       "      <td>855.000000</td>\n",
       "      <td>1921.000000</td>\n",
       "      <td>4707.000000</td>\n",
       "      <td>9459.000000</td>\n",
       "      <td>17257.000000</td>\n",
       "      <td>25934.000000</td>\n",
       "      <td>26255.000000</td>\n",
       "      <td>18593.000000</td>\n",
       "      <td>11189.000000</td>\n",
       "    </tr>\n",
       "    <tr>\n",
       "      <th>75%</th>\n",
       "      <td>5.190960e+05</td>\n",
       "      <td>2.236910e+05</td>\n",
       "      <td>27334.000000</td>\n",
       "      <td>27959.000000</td>\n",
       "      <td>38793.000000</td>\n",
       "      <td>35388.000000</td>\n",
       "      <td>31520.000000</td>\n",
       "      <td>37502.000000</td>\n",
       "      <td>46628.000000</td>\n",
       "      <td>30424.000000</td>\n",
       "      <td>...</td>\n",
       "      <td>2.990450e+05</td>\n",
       "      <td>17680.000000</td>\n",
       "      <td>28441.000000</td>\n",
       "      <td>35234.000000</td>\n",
       "      <td>37953.000000</td>\n",
       "      <td>41617.000000</td>\n",
       "      <td>46425.000000</td>\n",
       "      <td>37077.000000</td>\n",
       "      <td>27180.000000</td>\n",
       "      <td>14333.000000</td>\n",
       "    </tr>\n",
       "    <tr>\n",
       "      <th>max</th>\n",
       "      <td>3.969509e+06</td>\n",
       "      <td>2.015364e+06</td>\n",
       "      <td>475292.000000</td>\n",
       "      <td>291879.000000</td>\n",
       "      <td>349558.000000</td>\n",
       "      <td>313704.000000</td>\n",
       "      <td>248948.000000</td>\n",
       "      <td>181249.000000</td>\n",
       "      <td>104260.000000</td>\n",
       "      <td>40527.000000</td>\n",
       "      <td>...</td>\n",
       "      <td>1.954145e+06</td>\n",
       "      <td>470046.000000</td>\n",
       "      <td>255064.000000</td>\n",
       "      <td>326967.000000</td>\n",
       "      <td>303869.000000</td>\n",
       "      <td>246497.000000</td>\n",
       "      <td>183822.000000</td>\n",
       "      <td>111702.000000</td>\n",
       "      <td>73573.000000</td>\n",
       "      <td>37101.000000</td>\n",
       "    </tr>\n",
       "  </tbody>\n",
       "</table>\n",
       "<p>8 rows × 21 columns</p>\n",
       "</div>\n",
       "      <button class=\"colab-df-convert\" onclick=\"convertToInteractive('df-5ce78630-0251-4814-926f-d0d12d2db4fb')\"\n",
       "              title=\"Convert this dataframe to an interactive table.\"\n",
       "              style=\"display:none;\">\n",
       "        \n",
       "  <svg xmlns=\"http://www.w3.org/2000/svg\" height=\"24px\"viewBox=\"0 0 24 24\"\n",
       "       width=\"24px\">\n",
       "    <path d=\"M0 0h24v24H0V0z\" fill=\"none\"/>\n",
       "    <path d=\"M18.56 5.44l.94 2.06.94-2.06 2.06-.94-2.06-.94-.94-2.06-.94 2.06-2.06.94zm-11 1L8.5 8.5l.94-2.06 2.06-.94-2.06-.94L8.5 2.5l-.94 2.06-2.06.94zm10 10l.94 2.06.94-2.06 2.06-.94-2.06-.94-.94-2.06-.94 2.06-2.06.94z\"/><path d=\"M17.41 7.96l-1.37-1.37c-.4-.4-.92-.59-1.43-.59-.52 0-1.04.2-1.43.59L10.3 9.45l-7.72 7.72c-.78.78-.78 2.05 0 2.83L4 21.41c.39.39.9.59 1.41.59.51 0 1.02-.2 1.41-.59l7.78-7.78 2.81-2.81c.8-.78.8-2.07 0-2.86zM5.41 20L4 18.59l7.72-7.72 1.47 1.35L5.41 20z\"/>\n",
       "  </svg>\n",
       "      </button>\n",
       "      \n",
       "  <style>\n",
       "    .colab-df-container {\n",
       "      display:flex;\n",
       "      flex-wrap:wrap;\n",
       "      gap: 12px;\n",
       "    }\n",
       "\n",
       "    .colab-df-convert {\n",
       "      background-color: #E8F0FE;\n",
       "      border: none;\n",
       "      border-radius: 50%;\n",
       "      cursor: pointer;\n",
       "      display: none;\n",
       "      fill: #1967D2;\n",
       "      height: 32px;\n",
       "      padding: 0 0 0 0;\n",
       "      width: 32px;\n",
       "    }\n",
       "\n",
       "    .colab-df-convert:hover {\n",
       "      background-color: #E2EBFA;\n",
       "      box-shadow: 0px 1px 2px rgba(60, 64, 67, 0.3), 0px 1px 3px 1px rgba(60, 64, 67, 0.15);\n",
       "      fill: #174EA6;\n",
       "    }\n",
       "\n",
       "    [theme=dark] .colab-df-convert {\n",
       "      background-color: #3B4455;\n",
       "      fill: #D2E3FC;\n",
       "    }\n",
       "\n",
       "    [theme=dark] .colab-df-convert:hover {\n",
       "      background-color: #434B5C;\n",
       "      box-shadow: 0px 1px 3px 1px rgba(0, 0, 0, 0.15);\n",
       "      filter: drop-shadow(0px 1px 2px rgba(0, 0, 0, 0.3));\n",
       "      fill: #FFFFFF;\n",
       "    }\n",
       "  </style>\n",
       "\n",
       "      <script>\n",
       "        const buttonEl =\n",
       "          document.querySelector('#df-5ce78630-0251-4814-926f-d0d12d2db4fb button.colab-df-convert');\n",
       "        buttonEl.style.display =\n",
       "          google.colab.kernel.accessAllowed ? 'block' : 'none';\n",
       "\n",
       "        async function convertToInteractive(key) {\n",
       "          const element = document.querySelector('#df-5ce78630-0251-4814-926f-d0d12d2db4fb');\n",
       "          const dataTable =\n",
       "            await google.colab.kernel.invokeFunction('convertToInteractive',\n",
       "                                                     [key], {});\n",
       "          if (!dataTable) return;\n",
       "\n",
       "          const docLinkHtml = 'Like what you see? Visit the ' +\n",
       "            '<a target=\"_blank\" href=https://colab.research.google.com/notebooks/data_table.ipynb>data table notebook</a>'\n",
       "            + ' to learn more about interactive tables.';\n",
       "          element.innerHTML = '';\n",
       "          dataTable['output_type'] = 'display_data';\n",
       "          await google.colab.output.renderOutput(dataTable, element);\n",
       "          const docLink = document.createElement('div');\n",
       "          docLink.innerHTML = docLinkHtml;\n",
       "          element.appendChild(docLink);\n",
       "        }\n",
       "      </script>\n",
       "    </div>\n",
       "  </div>\n",
       "  "
      ],
      "text/plain": [
       "              Total    Male-Total        M_0-14        M_15-24   \\\n",
       "count  1.300000e+01  1.300000e+01      13.000000      13.000000   \n",
       "mean   5.846496e+05  2.817524e+05   47020.230769   31573.000000   \n",
       "std    1.037524e+06  5.279952e+05  129825.766606   79340.959832   \n",
       "min    4.594700e+04  1.823300e+04      53.000000      63.000000   \n",
       "25%    9.726800e+04  4.688800e+04     613.000000     547.000000   \n",
       "50%    3.033610e+05  1.650580e+05     935.000000    1255.000000   \n",
       "75%    5.190960e+05  2.236910e+05   27334.000000   27959.000000   \n",
       "max    3.969509e+06  2.015364e+06  475292.000000  291879.000000   \n",
       "\n",
       "            M_25-34        M_35-44        M_45-54        M_55-64   \\\n",
       "count      13.000000      13.000000      13.000000      13.000000   \n",
       "mean    38730.384615   36941.307692   34398.538462   34070.153846   \n",
       "std     94802.046709   84424.782286   65757.642624   46248.693583   \n",
       "min        87.000000     117.000000     309.000000     886.000000   \n",
       "25%       963.000000    1585.000000    3538.000000    8685.000000   \n",
       "50%      4321.000000    9836.000000   20218.000000   27614.000000   \n",
       "75%     38793.000000   35388.000000   31520.000000   37502.000000   \n",
       "max    349558.000000  313704.000000  248948.000000  181249.000000   \n",
       "\n",
       "            M_65-74       M_75-84   ...  Female-total        F_0-14   \\\n",
       "count      13.000000     13.000000  ...  1.300000e+01      13.000000   \n",
       "mean    31351.461538  19990.692308  ...  3.028972e+05   44279.076923   \n",
       "std     27088.621832  12802.033858  ...  5.114372e+05  128670.848299   \n",
       "min      2905.000000   7107.000000  ...  2.732800e+04      32.000000   \n",
       "25%     14195.000000  10140.000000  ...  5.038000e+04     463.000000   \n",
       "50%     20742.000000  12355.000000  ...  1.383030e+05     855.000000   \n",
       "75%     46628.000000  30424.000000  ...  2.990450e+05   17680.000000   \n",
       "max    104260.000000  40527.000000  ...  1.954145e+06  470046.000000   \n",
       "\n",
       "            F_15-24        F_25-34        F_35-44        F_45-54   \\\n",
       "count      13.000000      13.000000      13.000000      13.000000   \n",
       "mean    30779.000000   41157.461538   39477.076923   38217.230769   \n",
       "std     69602.498797   88942.960002   81800.778403   65241.359318   \n",
       "min        50.000000      80.000000      91.000000     265.000000   \n",
       "25%       520.000000    1098.000000    1680.000000    4402.000000   \n",
       "50%      1921.000000    4707.000000    9459.000000   17257.000000   \n",
       "75%     28441.000000   35234.000000   37953.000000   41617.000000   \n",
       "max    255064.000000  326967.000000  303869.000000  246497.000000   \n",
       "\n",
       "            F_55-64        F_65-74       F_75-84           F_85  \n",
       "count      13.000000      13.000000     13.000000     13.000000  \n",
       "mean    38105.692308   34912.461538  23278.846154  12690.384615  \n",
       "std     48400.714649   32948.862493  18273.171294   8660.545629  \n",
       "min       789.000000    2952.000000   6639.000000   4712.000000  \n",
       "25%      9677.000000   15113.000000  12375.000000   7636.000000  \n",
       "50%     25934.000000   26255.000000  18593.000000  11189.000000  \n",
       "75%     46425.000000   37077.000000  27180.000000  14333.000000  \n",
       "max    183822.000000  111702.000000  73573.000000  37101.000000  \n",
       "\n",
       "[8 rows x 21 columns]"
      ]
     },
     "execution_count": 9,
     "metadata": {},
     "output_type": "execute_result"
    }
   ],
   "source": [
    "df.describe()"
   ]
  },
  {
   "cell_type": "markdown",
   "metadata": {
    "id": "7861970c"
   },
   "source": [
    "#### Gaussian/normal distribution of Total Comorbidities"
   ]
  },
  {
   "cell_type": "code",
   "execution_count": 10,
   "metadata": {
    "colab": {
     "base_uri": "https://localhost:8080/",
     "height": 397
    },
    "id": "27b41da5",
    "outputId": "c139a1f7-6586-4dc4-881c-aca0f7df5a8e"
   },
   "outputs": [
    {
     "name": "stderr",
     "output_type": "stream",
     "text": [
      "/usr/local/lib/python3.7/dist-packages/seaborn/distributions.py:2619: FutureWarning:\n",
      "\n",
      "`distplot` is a deprecated function and will be removed in a future version. Please adapt your code to use either `displot` (a figure-level function with similar flexibility) or `histplot` (an axes-level function for histograms).\n",
      "\n"
     ]
    },
    {
     "data": {
      "text/plain": [
       "<matplotlib.axes._subplots.AxesSubplot at 0x7f898eb5e490>"
      ]
     },
     "execution_count": 10,
     "metadata": {},
     "output_type": "execute_result"
    },
    {
     "data": {
      "image/png": "[encoded data removed]",
      "text/plain": [
       "<Figure size 432x288 with 1 Axes>"
      ]
     },
     "metadata": {
      "needs_background": "light"
     },
     "output_type": "display_data"
    }
   ],
   "source": [
    "sns.distplot(df['Total'])"
   ]
  },
  {
   "cell_type": "markdown",
   "metadata": {
    "id": "52e2d749"
   },
   "source": [
    "## Gender wise Comorbidities"
   ]
  },
  {
   "cell_type": "markdown",
   "metadata": {
    "id": "9f4e064c"
   },
   "source": [
    "### Gaussian/normal distribution of Male Comorbidities"
   ]
  },
  {
   "cell_type": "code",
   "execution_count": 11,
   "metadata": {
    "colab": {
     "base_uri": "https://localhost:8080/",
     "height": 397
    },
    "id": "cef625c6",
    "outputId": "7a20c019-96cd-428d-9039-2996c41e2b12"
   },
   "outputs": [
    {
     "name": "stderr",
     "output_type": "stream",
     "text": [
      "/usr/local/lib/python3.7/dist-packages/seaborn/distributions.py:2619: FutureWarning:\n",
      "\n",
      "`distplot` is a deprecated function and will be removed in a future version. Please adapt your code to use either `displot` (a figure-level function with similar flexibility) or `histplot` (an axes-level function for histograms).\n",
      "\n"
     ]
    },
    {
     "data": {
      "text/plain": [
       "<matplotlib.axes._subplots.AxesSubplot at 0x7f898ea8d910>"
      ]
     },
     "execution_count": 11,
     "metadata": {},
     "output_type": "execute_result"
    },
    {
     "data": {
      "image/png": "[encoded data removed]",
      "text/plain": [
       "<Figure size 432x288 with 1 Axes>"
      ]
     },
     "metadata": {
      "needs_background": "light"
     },
     "output_type": "display_data"
    }
   ],
   "source": [
    "sns.distplot(df['Male-Total'])"
   ]
  },
  {
   "cell_type": "markdown",
   "metadata": {
    "id": "85e12ab7"
   },
   "source": [
    "### Gaussian/normal distribution of Female Comorbidities"
   ]
  },
  {
   "cell_type": "code",
   "execution_count": 12,
   "metadata": {
    "colab": {
     "base_uri": "https://localhost:8080/",
     "height": 397
    },
    "id": "9425741e",
    "outputId": "bf13fa4b-4fc1-444e-f499-b0671b1087ad"
   },
   "outputs": [
    {
     "name": "stderr",
     "output_type": "stream",
     "text": [
      "/usr/local/lib/python3.7/dist-packages/seaborn/distributions.py:2619: FutureWarning:\n",
      "\n",
      "`distplot` is a deprecated function and will be removed in a future version. Please adapt your code to use either `displot` (a figure-level function with similar flexibility) or `histplot` (an axes-level function for histograms).\n",
      "\n"
     ]
    },
    {
     "data": {
      "text/plain": [
       "<matplotlib.axes._subplots.AxesSubplot at 0x7f898e4b4450>"
      ]
     },
     "execution_count": 12,
     "metadata": {},
     "output_type": "execute_result"
    },
    {
     "data": {
      "image/png": "[encoded data removed]",
      "text/plain": [
       "<Figure size 432x288 with 1 Axes>"
      ]
     },
     "metadata": {
      "needs_background": "light"
     },
     "output_type": "display_data"
    }
   ],
   "source": [
    "sns.distplot(df['Female-total'])"
   ]
  },
  {
   "cell_type": "markdown",
   "metadata": {
    "id": "006e116a"
   },
   "source": []
  },
  {
   "cell_type": "code",
   "execution_count": 12,
   "metadata": {
    "id": "2a40f746"
   },
   "outputs": [],
   "source": []
  },
  {
   "cell_type": "markdown",
   "metadata": {
    "id": "a5c40cd3"
   },
   "source": [
    "### Distribution of Comorbidities(Health-condition) across total population\n",
    "\n",
    "#### Bar plot"
   ]
  },
  {
   "cell_type": "code",
   "execution_count": 13,
   "metadata": {
    "colab": {
     "base_uri": "https://localhost:8080/",
     "height": 302
    },
    "id": "d272fbbc",
    "outputId": "6aeacec9-4821-4b27-96d5-d348b75310f9"
   },
   "outputs": [
    {
     "data": {
      "text/plain": [
       "<matplotlib.axes._subplots.AxesSubplot at 0x7f898e42b7d0>"
      ]
     },
     "execution_count": 13,
     "metadata": {},
     "output_type": "execute_result"
    },
    {
     "data": {
      "image/png": "[encoded data removed]",
      "text/plain": [
       "<Figure size 432x288 with 1 Axes>"
      ]
     },
     "metadata": {},
     "output_type": "display_data"
    }
   ],
   "source": [
    "import seaborn as sns\n",
    "sns.set()\n",
    "sns.barplot(\n",
    "    x = \"Total\",\n",
    "    y = df.index,\n",
    "    data = df)\n",
    "\n"
   ]
  },
  {
   "cell_type": "markdown",
   "metadata": {
    "id": "66f1ef4b"
   },
   "source": [
    "### Distribution of Comorbidities(Health-condition) in Male and Female population\n",
    "\n",
    "#### Bar plot"
   ]
  },
  {
   "cell_type": "code",
   "execution_count": 14,
   "metadata": {
    "colab": {
     "base_uri": "https://localhost:8080/",
     "height": 488
    },
    "id": "4846fe3a",
    "outputId": "96a94571-e722-403f-e5a6-8ac67d890c9d"
   },
   "outputs": [
    {
     "data": {
      "text/html": [
       "\n",
       "  <div id=\"df-7b27b645-1733-4557-915f-da661a6ad12f\">\n",
       "    <div class=\"colab-df-container\">\n",
       "      <div>\n",
       "<style scoped>\n",
       "    .dataframe tbody tr th:only-of-type {\n",
       "        vertical-align: middle;\n",
       "    }\n",
       "\n",
       "    .dataframe tbody tr th {\n",
       "        vertical-align: top;\n",
       "    }\n",
       "\n",
       "    .dataframe thead th {\n",
       "        text-align: right;\n",
       "    }\n",
       "</style>\n",
       "<table border=\"1\" class=\"dataframe\">\n",
       "  <thead>\n",
       "    <tr style=\"text-align: right;\">\n",
       "      <th></th>\n",
       "      <th>Total</th>\n",
       "      <th>Male-Total</th>\n",
       "      <th>Female-total</th>\n",
       "    </tr>\n",
       "    <tr>\n",
       "      <th>Comorbidities</th>\n",
       "      <th></th>\n",
       "      <th></th>\n",
       "      <th></th>\n",
       "    </tr>\n",
       "  </thead>\n",
       "  <tbody>\n",
       "    <tr>\n",
       "      <th>Arthritis</th>\n",
       "      <td>518641</td>\n",
       "      <td>183276</td>\n",
       "      <td>335365</td>\n",
       "    </tr>\n",
       "    <tr>\n",
       "      <th>Asthma</th>\n",
       "      <td>543047</td>\n",
       "      <td>244002</td>\n",
       "      <td>299045</td>\n",
       "    </tr>\n",
       "    <tr>\n",
       "      <th>Cancer</th>\n",
       "      <td>179304</td>\n",
       "      <td>85362</td>\n",
       "      <td>93942</td>\n",
       "    </tr>\n",
       "    <tr>\n",
       "      <th>Dementia</th>\n",
       "      <td>45947</td>\n",
       "      <td>18233</td>\n",
       "      <td>27714</td>\n",
       "    </tr>\n",
       "    <tr>\n",
       "      <th>Diabetes</th>\n",
       "      <td>303361</td>\n",
       "      <td>165058</td>\n",
       "      <td>138303</td>\n",
       "    </tr>\n",
       "    <tr>\n",
       "      <th>Heartdisease</th>\n",
       "      <td>243140</td>\n",
       "      <td>147202</td>\n",
       "      <td>95938</td>\n",
       "    </tr>\n",
       "    <tr>\n",
       "      <th>KidneyDisease</th>\n",
       "      <td>57439</td>\n",
       "      <td>29516</td>\n",
       "      <td>27923</td>\n",
       "    </tr>\n",
       "    <tr>\n",
       "      <th>LungCondition</th>\n",
       "      <td>97268</td>\n",
       "      <td>46888</td>\n",
       "      <td>50380</td>\n",
       "    </tr>\n",
       "    <tr>\n",
       "      <th>MentalHealthCcondition</th>\n",
       "      <td>571147</td>\n",
       "      <td>218697</td>\n",
       "      <td>352450</td>\n",
       "    </tr>\n",
       "    <tr>\n",
       "      <th>Stroke</th>\n",
       "      <td>59835</td>\n",
       "      <td>32507</td>\n",
       "      <td>27328</td>\n",
       "    </tr>\n",
       "    <tr>\n",
       "      <th>OtherLongTermHhealthCond</th>\n",
       "      <td>519096</td>\n",
       "      <td>223691</td>\n",
       "      <td>295405</td>\n",
       "    </tr>\n",
       "    <tr>\n",
       "      <th>NoLongTermHhealthCond</th>\n",
       "      <td>3969509</td>\n",
       "      <td>2015364</td>\n",
       "      <td>1954145</td>\n",
       "    </tr>\n",
       "    <tr>\n",
       "      <th>NotStated</th>\n",
       "      <td>492711</td>\n",
       "      <td>252985</td>\n",
       "      <td>239726</td>\n",
       "    </tr>\n",
       "  </tbody>\n",
       "</table>\n",
       "</div>\n",
       "      <button class=\"colab-df-convert\" onclick=\"convertToInteractive('df-7b27b645-1733-4557-915f-da661a6ad12f')\"\n",
       "              title=\"Convert this dataframe to an interactive table.\"\n",
       "              style=\"display:none;\">\n",
       "        \n",
       "  <svg xmlns=\"http://www.w3.org/2000/svg\" height=\"24px\"viewBox=\"0 0 24 24\"\n",
       "       width=\"24px\">\n",
       "    <path d=\"M0 0h24v24H0V0z\" fill=\"none\"/>\n",
       "    <path d=\"M18.56 5.44l.94 2.06.94-2.06 2.06-.94-2.06-.94-.94-2.06-.94 2.06-2.06.94zm-11 1L8.5 8.5l.94-2.06 2.06-.94-2.06-.94L8.5 2.5l-.94 2.06-2.06.94zm10 10l.94 2.06.94-2.06 2.06-.94-2.06-.94-.94-2.06-.94 2.06-2.06.94z\"/><path d=\"M17.41 7.96l-1.37-1.37c-.4-.4-.92-.59-1.43-.59-.52 0-1.04.2-1.43.59L10.3 9.45l-7.72 7.72c-.78.78-.78 2.05 0 2.83L4 21.41c.39.39.9.59 1.41.59.51 0 1.02-.2 1.41-.59l7.78-7.78 2.81-2.81c.8-.78.8-2.07 0-2.86zM5.41 20L4 18.59l7.72-7.72 1.47 1.35L5.41 20z\"/>\n",
       "  </svg>\n",
       "      </button>\n",
       "      \n",
       "  <style>\n",
       "    .colab-df-container {\n",
       "      display:flex;\n",
       "      flex-wrap:wrap;\n",
       "      gap: 12px;\n",
       "    }\n",
       "\n",
       "    .colab-df-convert {\n",
       "      background-color: #E8F0FE;\n",
       "      border: none;\n",
       "      border-radius: 50%;\n",
       "      cursor: pointer;\n",
       "      display: none;\n",
       "      fill: #1967D2;\n",
       "      height: 32px;\n",
       "      padding: 0 0 0 0;\n",
       "      width: 32px;\n",
       "    }\n",
       "\n",
       "    .colab-df-convert:hover {\n",
       "      background-color: #E2EBFA;\n",
       "      box-shadow: 0px 1px 2px rgba(60, 64, 67, 0.3), 0px 1px 3px 1px rgba(60, 64, 67, 0.15);\n",
       "      fill: #174EA6;\n",
       "    }\n",
       "\n",
       "    [theme=dark] .colab-df-convert {\n",
       "      background-color: #3B4455;\n",
       "      fill: #D2E3FC;\n",
       "    }\n",
       "\n",
       "    [theme=dark] .colab-df-convert:hover {\n",
       "      background-color: #434B5C;\n",
       "      box-shadow: 0px 1px 3px 1px rgba(0, 0, 0, 0.15);\n",
       "      filter: drop-shadow(0px 1px 2px rgba(0, 0, 0, 0.3));\n",
       "      fill: #FFFFFF;\n",
       "    }\n",
       "  </style>\n",
       "\n",
       "      <script>\n",
       "        const buttonEl =\n",
       "          document.querySelector('#df-7b27b645-1733-4557-915f-da661a6ad12f button.colab-df-convert');\n",
       "        buttonEl.style.display =\n",
       "          google.colab.kernel.accessAllowed ? 'block' : 'none';\n",
       "\n",
       "        async function convertToInteractive(key) {\n",
       "          const element = document.querySelector('#df-7b27b645-1733-4557-915f-da661a6ad12f');\n",
       "          const dataTable =\n",
       "            await google.colab.kernel.invokeFunction('convertToInteractive',\n",
       "                                                     [key], {});\n",
       "          if (!dataTable) return;\n",
       "\n",
       "          const docLinkHtml = 'Like what you see? Visit the ' +\n",
       "            '<a target=\"_blank\" href=https://colab.research.google.com/notebooks/data_table.ipynb>data table notebook</a>'\n",
       "            + ' to learn more about interactive tables.';\n",
       "          element.innerHTML = '';\n",
       "          dataTable['output_type'] = 'display_data';\n",
       "          await google.colab.output.renderOutput(dataTable, element);\n",
       "          const docLink = document.createElement('div');\n",
       "          docLink.innerHTML = docLinkHtml;\n",
       "          element.appendChild(docLink);\n",
       "        }\n",
       "      </script>\n",
       "    </div>\n",
       "  </div>\n",
       "  "
      ],
      "text/plain": [
       "                            Total  Male-Total  Female-total\n",
       "Comorbidities                                              \n",
       "Arthritis                  518641      183276        335365\n",
       "Asthma                     543047      244002        299045\n",
       "Cancer                     179304       85362         93942\n",
       "Dementia                    45947       18233         27714\n",
       "Diabetes                   303361      165058        138303\n",
       "Heartdisease               243140      147202         95938\n",
       "KidneyDisease               57439       29516         27923\n",
       "LungCondition               97268       46888         50380\n",
       "MentalHealthCcondition     571147      218697        352450\n",
       "Stroke                      59835       32507         27328\n",
       "OtherLongTermHhealthCond   519096      223691        295405\n",
       "NoLongTermHhealthCond     3969509     2015364       1954145\n",
       "NotStated                  492711      252985        239726"
      ]
     },
     "execution_count": 14,
     "metadata": {},
     "output_type": "execute_result"
    }
   ],
   "source": [
    "#Selecting dataset\n",
    "df.loc[:, ['Total', 'Male-Total','Female-total']]"
   ]
  },
  {
   "cell_type": "code",
   "execution_count": 15,
   "metadata": {
    "colab": {
     "base_uri": "https://localhost:8080/",
     "height": 460
    },
    "id": "a79cce9f",
    "outputId": "ad514b80-84c5-4f7a-b13f-e7f32347f9cc"
   },
   "outputs": [
    {
     "data": {
      "text/plain": [
       "<matplotlib.axes._subplots.AxesSubplot at 0x7f898e364f90>"
      ]
     },
     "execution_count": 15,
     "metadata": {},
     "output_type": "execute_result"
    },
    {
     "data": {
      "image/png": "[encoded data removed]",
      "text/plain": [
       "<Figure size 432x288 with 1 Axes>"
      ]
     },
     "metadata": {},
     "output_type": "display_data"
    }
   ],
   "source": [
    "#Visualization of distribution\n",
    "df.loc[:, ['Male-Total','Female-total']].plot(kind='bar', stacked=True, color=['blue', 'red'])"
   ]
  },
  {
   "cell_type": "markdown",
   "metadata": {
    "id": "e4b57bbe"
   },
   "source": [
    "### Distribution of Comorbidities(Health-condition) in Male and Female population\n",
    "\n",
    "#### Scatter plot"
   ]
  },
  {
   "cell_type": "code",
   "execution_count": 16,
   "metadata": {
    "colab": {
     "base_uri": "https://localhost:8080/",
     "height": 318
    },
    "id": "1da316a6",
    "outputId": "5984c6e6-4de5-46c5-ce57-d80a351adb3c"
   },
   "outputs": [
    {
     "data": {
      "text/plain": [
       "<matplotlib.legend.Legend at 0x7f898e256c10>"
      ]
     },
     "execution_count": 16,
     "metadata": {},
     "output_type": "execute_result"
    },
    {
     "data": {
      "image/png": "[encoded data removed]",
      "text/plain": [
       "<Figure size 432x288 with 1 Axes>"
      ]
     },
     "metadata": {},
     "output_type": "display_data"
    }
   ],
   "source": [
    "plt.title(\"Gender vs. Comorbidities\")\n",
    "plt.xlabel(\"Count of patients\")\n",
    "plt.ylabel(\"Comorbidities\")\n",
    "plt.scatter(df['Male-Total'], df.index, label=\"Men\")\n",
    "plt.scatter(df['Female-total'], df.index, label=\"Women\")\n",
    "plt.legend(loc='lower right')"
   ]
  },
  {
   "cell_type": "markdown",
   "metadata": {
    "id": "5acc65b9"
   },
   "source": [
    "## Distribution of Comorbidities(Health-condition) in various age groups\n",
    "\n",
    "#### Bar plot"
   ]
  },
  {
   "cell_type": "code",
   "execution_count": 17,
   "metadata": {
    "colab": {
     "base_uri": "https://localhost:8080/",
     "height": 488
    },
    "id": "9e91a59d",
    "outputId": "749ff9e8-33b9-4568-9c6f-5bb05775e0be"
   },
   "outputs": [
    {
     "data": {
      "text/html": [
       "\n",
       "  <div id=\"df-6949f685-ac31-4c8d-9c0e-b7a1a1a1682e\">\n",
       "    <div class=\"colab-df-container\">\n",
       "      <div>\n",
       "<style scoped>\n",
       "    .dataframe tbody tr th:only-of-type {\n",
       "        vertical-align: middle;\n",
       "    }\n",
       "\n",
       "    .dataframe tbody tr th {\n",
       "        vertical-align: top;\n",
       "    }\n",
       "\n",
       "    .dataframe thead th {\n",
       "        text-align: right;\n",
       "    }\n",
       "</style>\n",
       "<table border=\"1\" class=\"dataframe\">\n",
       "  <thead>\n",
       "    <tr style=\"text-align: right;\">\n",
       "      <th></th>\n",
       "      <th>0-14</th>\n",
       "      <th>15-24</th>\n",
       "      <th>25-34</th>\n",
       "      <th>35-44</th>\n",
       "      <th>45-54</th>\n",
       "      <th>55-64</th>\n",
       "      <th>65-74</th>\n",
       "      <th>75-84</th>\n",
       "      <th>85 years</th>\n",
       "      <th>Total</th>\n",
       "    </tr>\n",
       "    <tr>\n",
       "      <th>Comorbidities</th>\n",
       "      <th></th>\n",
       "      <th></th>\n",
       "      <th></th>\n",
       "      <th></th>\n",
       "      <th></th>\n",
       "      <th></th>\n",
       "      <th></th>\n",
       "      <th></th>\n",
       "      <th></th>\n",
       "      <th></th>\n",
       "    </tr>\n",
       "  </thead>\n",
       "  <tbody>\n",
       "    <tr>\n",
       "      <th>Arthritis</th>\n",
       "      <td>858</td>\n",
       "      <td>3,293</td>\n",
       "      <td>11,637</td>\n",
       "      <td>24,624</td>\n",
       "      <td>56,107</td>\n",
       "      <td>1,08,774</td>\n",
       "      <td>1,47,703</td>\n",
       "      <td>1,13,084</td>\n",
       "      <td>52,545</td>\n",
       "      <td>5,18,625</td>\n",
       "    </tr>\n",
       "    <tr>\n",
       "      <th>Asthma</th>\n",
       "      <td>74,452</td>\n",
       "      <td>67,333</td>\n",
       "      <td>87,461</td>\n",
       "      <td>82,130</td>\n",
       "      <td>70,847</td>\n",
       "      <td>62,836</td>\n",
       "      <td>55,144</td>\n",
       "      <td>31,506</td>\n",
       "      <td>11,336</td>\n",
       "      <td>5,43,045</td>\n",
       "    </tr>\n",
       "    <tr>\n",
       "      <th>Cancer</th>\n",
       "      <td>1,096</td>\n",
       "      <td>1,432</td>\n",
       "      <td>3,755</td>\n",
       "      <td>8,297</td>\n",
       "      <td>18,603</td>\n",
       "      <td>35,952</td>\n",
       "      <td>53,641</td>\n",
       "      <td>40,743</td>\n",
       "      <td>15,812</td>\n",
       "      <td>1,79,331</td>\n",
       "    </tr>\n",
       "    <tr>\n",
       "      <th>Dementia</th>\n",
       "      <td>80</td>\n",
       "      <td>113</td>\n",
       "      <td>164</td>\n",
       "      <td>205</td>\n",
       "      <td>572</td>\n",
       "      <td>1,679</td>\n",
       "      <td>5,857</td>\n",
       "      <td>16,232</td>\n",
       "      <td>21,041</td>\n",
       "      <td>45,943</td>\n",
       "    </tr>\n",
       "    <tr>\n",
       "      <th>Diabetes</th>\n",
       "      <td>1,785</td>\n",
       "      <td>3,941</td>\n",
       "      <td>9,034</td>\n",
       "      <td>20,919</td>\n",
       "      <td>39,381</td>\n",
       "      <td>66,764</td>\n",
       "      <td>84,590</td>\n",
       "      <td>56,999</td>\n",
       "      <td>19,955</td>\n",
       "      <td>3,03,368</td>\n",
       "    </tr>\n",
       "    <tr>\n",
       "      <th>Heartdisease</th>\n",
       "      <td>2,089</td>\n",
       "      <td>1,753</td>\n",
       "      <td>3,086</td>\n",
       "      <td>5,969</td>\n",
       "      <td>16,861</td>\n",
       "      <td>41,654</td>\n",
       "      <td>71,480</td>\n",
       "      <td>65,103</td>\n",
       "      <td>35,116</td>\n",
       "      <td>2,43,111</td>\n",
       "    </tr>\n",
       "    <tr>\n",
       "      <th>KidneyDisease</th>\n",
       "      <td>1,246</td>\n",
       "      <td>1,069</td>\n",
       "      <td>2,063</td>\n",
       "      <td>3,272</td>\n",
       "      <td>5,344</td>\n",
       "      <td>8,833</td>\n",
       "      <td>13,440</td>\n",
       "      <td>13,897</td>\n",
       "      <td>8,286</td>\n",
       "      <td>57,450</td>\n",
       "    </tr>\n",
       "    <tr>\n",
       "      <th>LungCondition</th>\n",
       "      <td>1,092</td>\n",
       "      <td>854</td>\n",
       "      <td>1,619</td>\n",
       "      <td>3,076</td>\n",
       "      <td>7,940</td>\n",
       "      <td>18,364</td>\n",
       "      <td>29,306</td>\n",
       "      <td>24,675</td>\n",
       "      <td>10,352</td>\n",
       "      <td>97,278</td>\n",
       "    </tr>\n",
       "    <tr>\n",
       "      <th>MentalHealthCcondition</th>\n",
       "      <td>23,107</td>\n",
       "      <td>82,294</td>\n",
       "      <td>1,10,898</td>\n",
       "      <td>94,621</td>\n",
       "      <td>90,254</td>\n",
       "      <td>77,478</td>\n",
       "      <td>50,386</td>\n",
       "      <td>26,240</td>\n",
       "      <td>15,871</td>\n",
       "      <td>5,71,149</td>\n",
       "    </tr>\n",
       "    <tr>\n",
       "      <th>Stroke</th>\n",
       "      <td>403</td>\n",
       "      <td>426</td>\n",
       "      <td>841</td>\n",
       "      <td>1,869</td>\n",
       "      <td>4,757</td>\n",
       "      <td>9,268</td>\n",
       "      <td>15,652</td>\n",
       "      <td>16,613</td>\n",
       "      <td>10,026</td>\n",
       "      <td>59,855</td>\n",
       "    </tr>\n",
       "    <tr>\n",
       "      <th>OtherLongTermHhealthCond</th>\n",
       "      <td>45,011</td>\n",
       "      <td>40,141</td>\n",
       "      <td>55,917</td>\n",
       "      <td>63,450</td>\n",
       "      <td>75,706</td>\n",
       "      <td>88,069</td>\n",
       "      <td>76,926</td>\n",
       "      <td>46,775</td>\n",
       "      <td>27,113</td>\n",
       "      <td>5,19,108</td>\n",
       "    </tr>\n",
       "    <tr>\n",
       "      <th>NoLongTermHhealthCond</th>\n",
       "      <td>9,45,340</td>\n",
       "      <td>5,46,938</td>\n",
       "      <td>6,76,524</td>\n",
       "      <td>6,17,573</td>\n",
       "      <td>4,95,448</td>\n",
       "      <td>3,65,070</td>\n",
       "      <td>2,15,966</td>\n",
       "      <td>84,155</td>\n",
       "      <td>22,486</td>\n",
       "      <td>39,69,500</td>\n",
       "    </tr>\n",
       "    <tr>\n",
       "      <th>NotStated</th>\n",
       "      <td>90,329</td>\n",
       "      <td>60,985</td>\n",
       "      <td>75,553</td>\n",
       "      <td>67,444</td>\n",
       "      <td>62,183</td>\n",
       "      <td>53,548</td>\n",
       "      <td>41,360</td>\n",
       "      <td>26,469</td>\n",
       "      <td>14,840</td>\n",
       "      <td>4,92,711</td>\n",
       "    </tr>\n",
       "  </tbody>\n",
       "</table>\n",
       "</div>\n",
       "      <button class=\"colab-df-convert\" onclick=\"convertToInteractive('df-6949f685-ac31-4c8d-9c0e-b7a1a1a1682e')\"\n",
       "              title=\"Convert this dataframe to an interactive table.\"\n",
       "              style=\"display:none;\">\n",
       "        \n",
       "  <svg xmlns=\"http://www.w3.org/2000/svg\" height=\"24px\"viewBox=\"0 0 24 24\"\n",
       "       width=\"24px\">\n",
       "    <path d=\"M0 0h24v24H0V0z\" fill=\"none\"/>\n",
       "    <path d=\"M18.56 5.44l.94 2.06.94-2.06 2.06-.94-2.06-.94-.94-2.06-.94 2.06-2.06.94zm-11 1L8.5 8.5l.94-2.06 2.06-.94-2.06-.94L8.5 2.5l-.94 2.06-2.06.94zm10 10l.94 2.06.94-2.06 2.06-.94-2.06-.94-.94-2.06-.94 2.06-2.06.94z\"/><path d=\"M17.41 7.96l-1.37-1.37c-.4-.4-.92-.59-1.43-.59-.52 0-1.04.2-1.43.59L10.3 9.45l-7.72 7.72c-.78.78-.78 2.05 0 2.83L4 21.41c.39.39.9.59 1.41.59.51 0 1.02-.2 1.41-.59l7.78-7.78 2.81-2.81c.8-.78.8-2.07 0-2.86zM5.41 20L4 18.59l7.72-7.72 1.47 1.35L5.41 20z\"/>\n",
       "  </svg>\n",
       "      </button>\n",
       "      \n",
       "  <style>\n",
       "    .colab-df-container {\n",
       "      display:flex;\n",
       "      flex-wrap:wrap;\n",
       "      gap: 12px;\n",
       "    }\n",
       "\n",
       "    .colab-df-convert {\n",
       "      background-color: #E8F0FE;\n",
       "      border: none;\n",
       "      border-radius: 50%;\n",
       "      cursor: pointer;\n",
       "      display: none;\n",
       "      fill: #1967D2;\n",
       "      height: 32px;\n",
       "      padding: 0 0 0 0;\n",
       "      width: 32px;\n",
       "    }\n",
       "\n",
       "    .colab-df-convert:hover {\n",
       "      background-color: #E2EBFA;\n",
       "      box-shadow: 0px 1px 2px rgba(60, 64, 67, 0.3), 0px 1px 3px 1px rgba(60, 64, 67, 0.15);\n",
       "      fill: #174EA6;\n",
       "    }\n",
       "\n",
       "    [theme=dark] .colab-df-convert {\n",
       "      background-color: #3B4455;\n",
       "      fill: #D2E3FC;\n",
       "    }\n",
       "\n",
       "    [theme=dark] .colab-df-convert:hover {\n",
       "      background-color: #434B5C;\n",
       "      box-shadow: 0px 1px 3px 1px rgba(0, 0, 0, 0.15);\n",
       "      filter: drop-shadow(0px 1px 2px rgba(0, 0, 0, 0.3));\n",
       "      fill: #FFFFFF;\n",
       "    }\n",
       "  </style>\n",
       "\n",
       "      <script>\n",
       "        const buttonEl =\n",
       "          document.querySelector('#df-6949f685-ac31-4c8d-9c0e-b7a1a1a1682e button.colab-df-convert');\n",
       "        buttonEl.style.display =\n",
       "          google.colab.kernel.accessAllowed ? 'block' : 'none';\n",
       "\n",
       "        async function convertToInteractive(key) {\n",
       "          const element = document.querySelector('#df-6949f685-ac31-4c8d-9c0e-b7a1a1a1682e');\n",
       "          const dataTable =\n",
       "            await google.colab.kernel.invokeFunction('convertToInteractive',\n",
       "                                                     [key], {});\n",
       "          if (!dataTable) return;\n",
       "\n",
       "          const docLinkHtml = 'Like what you see? Visit the ' +\n",
       "            '<a target=\"_blank\" href=https://colab.research.google.com/notebooks/data_table.ipynb>data table notebook</a>'\n",
       "            + ' to learn more about interactive tables.';\n",
       "          element.innerHTML = '';\n",
       "          dataTable['output_type'] = 'display_data';\n",
       "          await google.colab.output.renderOutput(dataTable, element);\n",
       "          const docLink = document.createElement('div');\n",
       "          docLink.innerHTML = docLinkHtml;\n",
       "          element.appendChild(docLink);\n",
       "        }\n",
       "      </script>\n",
       "    </div>\n",
       "  </div>\n",
       "  "
      ],
      "text/plain": [
       "                              0-14     15-24     25-34     35-44     45-54  \\\n",
       "Comorbidities                                                                \n",
       "Arthritis                      858     3,293    11,637    24,624    56,107   \n",
       "Asthma                      74,452    67,333    87,461    82,130    70,847   \n",
       "Cancer                       1,096     1,432     3,755     8,297    18,603   \n",
       "Dementia                        80       113       164       205       572   \n",
       "Diabetes                     1,785     3,941     9,034    20,919    39,381   \n",
       "Heartdisease                 2,089     1,753     3,086     5,969    16,861   \n",
       "KidneyDisease                1,246     1,069     2,063     3,272     5,344   \n",
       "LungCondition                1,092       854     1,619     3,076     7,940   \n",
       "MentalHealthCcondition      23,107    82,294  1,10,898    94,621    90,254   \n",
       "Stroke                         403       426       841     1,869     4,757   \n",
       "OtherLongTermHhealthCond    45,011    40,141    55,917    63,450    75,706   \n",
       "NoLongTermHhealthCond     9,45,340  5,46,938  6,76,524  6,17,573  4,95,448   \n",
       "NotStated                   90,329    60,985    75,553    67,444    62,183   \n",
       "\n",
       "                             55-64     65-74     75-84 85 years      Total  \n",
       "Comorbidities                                                               \n",
       "Arthritis                 1,08,774  1,47,703  1,13,084   52,545   5,18,625  \n",
       "Asthma                      62,836    55,144    31,506   11,336   5,43,045  \n",
       "Cancer                      35,952    53,641    40,743   15,812   1,79,331  \n",
       "Dementia                     1,679     5,857    16,232   21,041     45,943  \n",
       "Diabetes                    66,764    84,590    56,999   19,955   3,03,368  \n",
       "Heartdisease                41,654    71,480    65,103   35,116   2,43,111  \n",
       "KidneyDisease                8,833    13,440    13,897    8,286     57,450  \n",
       "LungCondition               18,364    29,306    24,675   10,352     97,278  \n",
       "MentalHealthCcondition      77,478    50,386    26,240   15,871   5,71,149  \n",
       "Stroke                       9,268    15,652    16,613   10,026     59,855  \n",
       "OtherLongTermHhealthCond    88,069    76,926    46,775   27,113   5,19,108  \n",
       "NoLongTermHhealthCond     3,65,070  2,15,966    84,155   22,486  39,69,500  \n",
       "NotStated                   53,548    41,360    26,469   14,840   4,92,711  "
      ]
     },
     "execution_count": 17,
     "metadata": {},
     "output_type": "execute_result"
    }
   ],
   "source": [
    "#Reading dataset\n",
    "df_comorbidities_age_orig = pd.read_csv('comorbidities_age_analysis.csv')\n",
    "\n",
    "# setting Comorbidities  as index column\n",
    "df_comorbidities_age = df_comorbidities_age_orig.set_index(\"Comorbidities\")\n",
    "df_comorbidities_age"
   ]
  },
  {
   "cell_type": "code",
   "execution_count": 18,
   "metadata": {
    "id": "23a9b62f"
   },
   "outputs": [],
   "source": [
    "#Changing the categorical to numeric\n",
    "cols_age = df_comorbidities_age.columns\n",
    "df_comorbidities_age[cols_age] = df_comorbidities_age[cols_age].replace({'\\$': '', ',': ''}, regex=True)\n",
    "df_comorbidities_age[cols_age] = df_comorbidities_age[cols_age].astype('int64')"
   ]
  },
  {
   "cell_type": "code",
   "execution_count": 19,
   "metadata": {
    "colab": {
     "base_uri": "https://localhost:8080/"
    },
    "id": "50b7bfda",
    "outputId": "a594148e-092b-45a4-feab-336c98b8f8fe"
   },
   "outputs": [
    {
     "data": {
      "text/plain": [
       "Index(['0-14', '15-24', '25-34', '35-44', '45-54', '55-64', '65-74', '75-84',\n",
       "       '85 years', 'Total'],\n",
       "      dtype='object')"
      ]
     },
     "execution_count": 19,
     "metadata": {},
     "output_type": "execute_result"
    }
   ],
   "source": [
    "df_comorbidities_age.columns"
   ]
  },
  {
   "cell_type": "code",
   "execution_count": 20,
   "metadata": {
    "colab": {
     "base_uri": "https://localhost:8080/",
     "height": 300
    },
    "id": "4e3c8313",
    "outputId": "fc53d3fe-14bd-4720-b683-cd9f2813ea96"
   },
   "outputs": [
    {
     "data": {
      "text/html": [
       "\n",
       "  <div id=\"df-a58e2e26-ecf5-4fb2-9533-e4c9e581a47f\">\n",
       "    <div class=\"colab-df-container\">\n",
       "      <div>\n",
       "<style scoped>\n",
       "    .dataframe tbody tr th:only-of-type {\n",
       "        vertical-align: middle;\n",
       "    }\n",
       "\n",
       "    .dataframe tbody tr th {\n",
       "        vertical-align: top;\n",
       "    }\n",
       "\n",
       "    .dataframe thead th {\n",
       "        text-align: right;\n",
       "    }\n",
       "</style>\n",
       "<table border=\"1\" class=\"dataframe\">\n",
       "  <thead>\n",
       "    <tr style=\"text-align: right;\">\n",
       "      <th></th>\n",
       "      <th>0-14</th>\n",
       "      <th>15-24</th>\n",
       "      <th>25-34</th>\n",
       "      <th>35-44</th>\n",
       "      <th>45-54</th>\n",
       "      <th>55-64</th>\n",
       "      <th>65-74</th>\n",
       "      <th>75-84</th>\n",
       "      <th>85 years</th>\n",
       "      <th>Total</th>\n",
       "    </tr>\n",
       "  </thead>\n",
       "  <tbody>\n",
       "    <tr>\n",
       "      <th>count</th>\n",
       "      <td>13.000000</td>\n",
       "      <td>13.000000</td>\n",
       "      <td>13.000000</td>\n",
       "      <td>13.000000</td>\n",
       "      <td>13.000000</td>\n",
       "      <td>13.000000</td>\n",
       "      <td>13.000000</td>\n",
       "      <td>13.000000</td>\n",
       "      <td>13.000000</td>\n",
       "      <td>1.300000e+01</td>\n",
       "    </tr>\n",
       "    <tr>\n",
       "      <th>mean</th>\n",
       "      <td>91299.076923</td>\n",
       "      <td>62351.692308</td>\n",
       "      <td>79888.615385</td>\n",
       "      <td>76419.153846</td>\n",
       "      <td>72615.615385</td>\n",
       "      <td>72176.076923</td>\n",
       "      <td>66265.461538</td>\n",
       "      <td>43268.538462</td>\n",
       "      <td>20367.615385</td>\n",
       "      <td>5.846518e+05</td>\n",
       "    </tr>\n",
       "    <tr>\n",
       "      <th>std</th>\n",
       "      <td>258453.846657</td>\n",
       "      <td>148680.504949</td>\n",
       "      <td>183427.385398</td>\n",
       "      <td>166063.005761</td>\n",
       "      <td>130743.498721</td>\n",
       "      <td>93963.475327</td>\n",
       "      <td>58482.112818</td>\n",
       "      <td>29707.317170</td>\n",
       "      <td>12280.863077</td>\n",
       "      <td>1.037520e+06</td>\n",
       "    </tr>\n",
       "    <tr>\n",
       "      <th>min</th>\n",
       "      <td>80.000000</td>\n",
       "      <td>113.000000</td>\n",
       "      <td>164.000000</td>\n",
       "      <td>205.000000</td>\n",
       "      <td>572.000000</td>\n",
       "      <td>1679.000000</td>\n",
       "      <td>5857.000000</td>\n",
       "      <td>13897.000000</td>\n",
       "      <td>8286.000000</td>\n",
       "      <td>4.594300e+04</td>\n",
       "    </tr>\n",
       "    <tr>\n",
       "      <th>25%</th>\n",
       "      <td>1092.000000</td>\n",
       "      <td>1069.000000</td>\n",
       "      <td>2063.000000</td>\n",
       "      <td>3272.000000</td>\n",
       "      <td>7940.000000</td>\n",
       "      <td>18364.000000</td>\n",
       "      <td>29306.000000</td>\n",
       "      <td>24675.000000</td>\n",
       "      <td>11336.000000</td>\n",
       "      <td>9.727800e+04</td>\n",
       "    </tr>\n",
       "    <tr>\n",
       "      <th>50%</th>\n",
       "      <td>1785.000000</td>\n",
       "      <td>3293.000000</td>\n",
       "      <td>9034.000000</td>\n",
       "      <td>20919.000000</td>\n",
       "      <td>39381.000000</td>\n",
       "      <td>53548.000000</td>\n",
       "      <td>53641.000000</td>\n",
       "      <td>31506.000000</td>\n",
       "      <td>15871.000000</td>\n",
       "      <td>3.033680e+05</td>\n",
       "    </tr>\n",
       "    <tr>\n",
       "      <th>75%</th>\n",
       "      <td>45011.000000</td>\n",
       "      <td>60985.000000</td>\n",
       "      <td>75553.000000</td>\n",
       "      <td>67444.000000</td>\n",
       "      <td>70847.000000</td>\n",
       "      <td>77478.000000</td>\n",
       "      <td>76926.000000</td>\n",
       "      <td>56999.000000</td>\n",
       "      <td>22486.000000</td>\n",
       "      <td>5.191080e+05</td>\n",
       "    </tr>\n",
       "    <tr>\n",
       "      <th>max</th>\n",
       "      <td>945340.000000</td>\n",
       "      <td>546938.000000</td>\n",
       "      <td>676524.000000</td>\n",
       "      <td>617573.000000</td>\n",
       "      <td>495448.000000</td>\n",
       "      <td>365070.000000</td>\n",
       "      <td>215966.000000</td>\n",
       "      <td>113084.000000</td>\n",
       "      <td>52545.000000</td>\n",
       "      <td>3.969500e+06</td>\n",
       "    </tr>\n",
       "  </tbody>\n",
       "</table>\n",
       "</div>\n",
       "      <button class=\"colab-df-convert\" onclick=\"convertToInteractive('df-a58e2e26-ecf5-4fb2-9533-e4c9e581a47f')\"\n",
       "              title=\"Convert this dataframe to an interactive table.\"\n",
       "              style=\"display:none;\">\n",
       "        \n",
       "  <svg xmlns=\"http://www.w3.org/2000/svg\" height=\"24px\"viewBox=\"0 0 24 24\"\n",
       "       width=\"24px\">\n",
       "    <path d=\"M0 0h24v24H0V0z\" fill=\"none\"/>\n",
       "    <path d=\"M18.56 5.44l.94 2.06.94-2.06 2.06-.94-2.06-.94-.94-2.06-.94 2.06-2.06.94zm-11 1L8.5 8.5l.94-2.06 2.06-.94-2.06-.94L8.5 2.5l-.94 2.06-2.06.94zm10 10l.94 2.06.94-2.06 2.06-.94-2.06-.94-.94-2.06-.94 2.06-2.06.94z\"/><path d=\"M17.41 7.96l-1.37-1.37c-.4-.4-.92-.59-1.43-.59-.52 0-1.04.2-1.43.59L10.3 9.45l-7.72 7.72c-.78.78-.78 2.05 0 2.83L4 21.41c.39.39.9.59 1.41.59.51 0 1.02-.2 1.41-.59l7.78-7.78 2.81-2.81c.8-.78.8-2.07 0-2.86zM5.41 20L4 18.59l7.72-7.72 1.47 1.35L5.41 20z\"/>\n",
       "  </svg>\n",
       "      </button>\n",
       "      \n",
       "  <style>\n",
       "    .colab-df-container {\n",
       "      display:flex;\n",
       "      flex-wrap:wrap;\n",
       "      gap: 12px;\n",
       "    }\n",
       "\n",
       "    .colab-df-convert {\n",
       "      background-color: #E8F0FE;\n",
       "      border: none;\n",
       "      border-radius: 50%;\n",
       "      cursor: pointer;\n",
       "      display: none;\n",
       "      fill: #1967D2;\n",
       "      height: 32px;\n",
       "      padding: 0 0 0 0;\n",
       "      width: 32px;\n",
       "    }\n",
       "\n",
       "    .colab-df-convert:hover {\n",
       "      background-color: #E2EBFA;\n",
       "      box-shadow: 0px 1px 2px rgba(60, 64, 67, 0.3), 0px 1px 3px 1px rgba(60, 64, 67, 0.15);\n",
       "      fill: #174EA6;\n",
       "    }\n",
       "\n",
       "    [theme=dark] .colab-df-convert {\n",
       "      background-color: #3B4455;\n",
       "      fill: #D2E3FC;\n",
       "    }\n",
       "\n",
       "    [theme=dark] .colab-df-convert:hover {\n",
       "      background-color: #434B5C;\n",
       "      box-shadow: 0px 1px 3px 1px rgba(0, 0, 0, 0.15);\n",
       "      filter: drop-shadow(0px 1px 2px rgba(0, 0, 0, 0.3));\n",
       "      fill: #FFFFFF;\n",
       "    }\n",
       "  </style>\n",
       "\n",
       "      <script>\n",
       "        const buttonEl =\n",
       "          document.querySelector('#df-a58e2e26-ecf5-4fb2-9533-e4c9e581a47f button.colab-df-convert');\n",
       "        buttonEl.style.display =\n",
       "          google.colab.kernel.accessAllowed ? 'block' : 'none';\n",
       "\n",
       "        async function convertToInteractive(key) {\n",
       "          const element = document.querySelector('#df-a58e2e26-ecf5-4fb2-9533-e4c9e581a47f');\n",
       "          const dataTable =\n",
       "            await google.colab.kernel.invokeFunction('convertToInteractive',\n",
       "                                                     [key], {});\n",
       "          if (!dataTable) return;\n",
       "\n",
       "          const docLinkHtml = 'Like what you see? Visit the ' +\n",
       "            '<a target=\"_blank\" href=https://colab.research.google.com/notebooks/data_table.ipynb>data table notebook</a>'\n",
       "            + ' to learn more about interactive tables.';\n",
       "          element.innerHTML = '';\n",
       "          dataTable['output_type'] = 'display_data';\n",
       "          await google.colab.output.renderOutput(dataTable, element);\n",
       "          const docLink = document.createElement('div');\n",
       "          docLink.innerHTML = docLinkHtml;\n",
       "          element.appendChild(docLink);\n",
       "        }\n",
       "      </script>\n",
       "    </div>\n",
       "  </div>\n",
       "  "
      ],
      "text/plain": [
       "                0-14          15-24          25-34          35-44  \\\n",
       "count      13.000000      13.000000      13.000000      13.000000   \n",
       "mean    91299.076923   62351.692308   79888.615385   76419.153846   \n",
       "std    258453.846657  148680.504949  183427.385398  166063.005761   \n",
       "min        80.000000     113.000000     164.000000     205.000000   \n",
       "25%      1092.000000    1069.000000    2063.000000    3272.000000   \n",
       "50%      1785.000000    3293.000000    9034.000000   20919.000000   \n",
       "75%     45011.000000   60985.000000   75553.000000   67444.000000   \n",
       "max    945340.000000  546938.000000  676524.000000  617573.000000   \n",
       "\n",
       "               45-54          55-64          65-74          75-84  \\\n",
       "count      13.000000      13.000000      13.000000      13.000000   \n",
       "mean    72615.615385   72176.076923   66265.461538   43268.538462   \n",
       "std    130743.498721   93963.475327   58482.112818   29707.317170   \n",
       "min       572.000000    1679.000000    5857.000000   13897.000000   \n",
       "25%      7940.000000   18364.000000   29306.000000   24675.000000   \n",
       "50%     39381.000000   53548.000000   53641.000000   31506.000000   \n",
       "75%     70847.000000   77478.000000   76926.000000   56999.000000   \n",
       "max    495448.000000  365070.000000  215966.000000  113084.000000   \n",
       "\n",
       "           85 years         Total  \n",
       "count     13.000000  1.300000e+01  \n",
       "mean   20367.615385  5.846518e+05  \n",
       "std    12280.863077  1.037520e+06  \n",
       "min     8286.000000  4.594300e+04  \n",
       "25%    11336.000000  9.727800e+04  \n",
       "50%    15871.000000  3.033680e+05  \n",
       "75%    22486.000000  5.191080e+05  \n",
       "max    52545.000000  3.969500e+06  "
      ]
     },
     "execution_count": 20,
     "metadata": {},
     "output_type": "execute_result"
    }
   ],
   "source": [
    "df_comorbidities_age.describe()"
   ]
  },
  {
   "cell_type": "code",
   "execution_count": 21,
   "metadata": {
    "colab": {
     "base_uri": "https://localhost:8080/",
     "height": 465
    },
    "id": "188cf0b7",
    "outputId": "4db94116-f036-45d6-d18a-63e1f86e6f93"
   },
   "outputs": [
    {
     "data": {
      "text/plain": [
       "Text(0.5, 1.0, 'Distribution of Comorbidities in various age groups')"
      ]
     },
     "execution_count": 21,
     "metadata": {},
     "output_type": "execute_result"
    },
    {
     "data": {
      "image/png": "[encoded data removed]",
      "text/plain": [
       "<Figure size 432x288 with 1 Axes>"
      ]
     },
     "metadata": {},
     "output_type": "display_data"
    }
   ],
   "source": [
    "#Visualization of distribution using Barplot\n",
    "df_comorbidities_age.loc[:, ['0-14', '15-24', '25-34', '35-44', '45-54', '55-64', '65-74', '75-84',\n",
    "       '85 years']].plot(kind='bar', stacked=True)\n",
    "plt.legend(loc='upper left')\n",
    "plt.title(\"Distribution of Comorbidities in various age groups\")\n"
   ]
  },
  {
   "cell_type": "markdown",
   "metadata": {
    "id": "6cd78a5d"
   },
   "source": [
    "### Let's remove the population with \"No long-term health condition\" to get better distribution with comorbidities"
   ]
  },
  {
   "cell_type": "code",
   "execution_count": 22,
   "metadata": {
    "id": "91ee393c"
   },
   "outputs": [],
   "source": [
    "update_df_comorbidities_age = df_comorbidities_age.drop('NoLongTermHhealthCond')"
   ]
  },
  {
   "cell_type": "code",
   "execution_count": 23,
   "metadata": {
    "colab": {
     "base_uri": "https://localhost:8080/",
     "height": 465
    },
    "id": "1b177f30",
    "outputId": "fbb30f1f-a4fb-4996-8024-e50677ad559e"
   },
   "outputs": [
    {
     "data": {
      "text/plain": [
       "Text(0.5, 1.0, 'Distribution of Comorbidities in various age groups')"
      ]
     },
     "execution_count": 23,
     "metadata": {},
     "output_type": "execute_result"
    },
    {
     "data": {
      "image/png": "[encoded data removed]",
      "text/plain": [
       "<Figure size 432x288 with 1 Axes>"
      ]
     },
     "metadata": {},
     "output_type": "display_data"
    }
   ],
   "source": [
    "#df_comorbities_gender = df['Total', 'Male-Total', 'Female-Total']\n",
    "update_df_comorbidities_age.loc[:, ['0-14', '15-24', '25-34', '35-44', '45-54', '55-64', '65-74', '75-84',\n",
    "       '85 years']].plot(kind='bar', stacked=True)\n",
    "\n",
    "plt.legend(loc='center')\n",
    "plt.title(\"Distribution of Comorbidities in various age groups\")\n",
    "#, color=['blue', 'red']"
   ]
  },
  {
   "cell_type": "code",
   "execution_count": 24,
   "metadata": {
    "colab": {
     "base_uri": "https://localhost:8080/",
     "height": 318
    },
    "id": "ecdd689f",
    "outputId": "86ba4973-03e4-466d-c621-60f1e9d2faa4"
   },
   "outputs": [
    {
     "data": {
      "text/plain": [
       "<matplotlib.legend.Legend at 0x7f898dd88ad0>"
      ]
     },
     "execution_count": 24,
     "metadata": {},
     "output_type": "execute_result"
    },
    {
     "data": {
      "image/png": "[encoded data removed]",
      "text/plain": [
       "<Figure size 432x288 with 1 Axes>"
      ]
     },
     "metadata": {},
     "output_type": "display_data"
    }
   ],
   "source": [
    "plt.title(\"Distribution of Age vs Comorbidities\")\n",
    "plt.xlabel(\"Count of patients\")\n",
    "plt.ylabel(\"Comorbidities\")\n",
    "plt.scatter(update_df_comorbidities_age['0-14'], update_df_comorbidities_age.index, label=\"0-14\")\n",
    "plt.scatter(update_df_comorbidities_age['15-24'], update_df_comorbidities_age.index, label=\"15-24\")\n",
    "plt.scatter(update_df_comorbidities_age['25-34'], update_df_comorbidities_age.index, label=\"25-34\")\n",
    "plt.scatter(update_df_comorbidities_age['35-44'], update_df_comorbidities_age.index, label=\"35-44\")\n",
    "plt.scatter(update_df_comorbidities_age['45-54'], update_df_comorbidities_age.index, label=\"45-54\")\n",
    "plt.scatter(update_df_comorbidities_age['55-64'], update_df_comorbidities_age.index, label=\"55-64\")\n",
    "\n",
    "plt.scatter(update_df_comorbidities_age['65-74'], update_df_comorbidities_age.index, label=\"65-74\")\n",
    "plt.scatter(update_df_comorbidities_age['75-84'], update_df_comorbidities_age.index, label=\"75-84\")\n",
    "plt.scatter(update_df_comorbidities_age['85 years'], update_df_comorbidities_age.index, label=\"85 years\")\n",
    "plt.legend(loc='lower right')"
   ]
  },
  {
   "cell_type": "markdown",
   "metadata": {
    "id": "d1741e4d"
   },
   "source": [
    "### Statistical Distribution of Comorbidities with various Age groups"
   ]
  },
  {
   "cell_type": "code",
   "execution_count": 25,
   "metadata": {
    "colab": {
     "base_uri": "https://localhost:8080/",
     "height": 442
    },
    "id": "614dff44",
    "outputId": "a9a44b43-cab9-4d79-a16a-6a32e4fbc686",
    "scrolled": true
   },
   "outputs": [
    {
     "data": {
      "text/html": [
       "\n",
       "  <div id=\"df-36754c59-8d78-4fe4-b596-e0a8d84dace5\">\n",
       "    <div class=\"colab-df-container\">\n",
       "      <div>\n",
       "<style scoped>\n",
       "    .dataframe tbody tr th:only-of-type {\n",
       "        vertical-align: middle;\n",
       "    }\n",
       "\n",
       "    .dataframe tbody tr th {\n",
       "        vertical-align: top;\n",
       "    }\n",
       "\n",
       "    .dataframe thead th {\n",
       "        text-align: right;\n",
       "    }\n",
       "</style>\n",
       "<table border=\"1\" class=\"dataframe\">\n",
       "  <thead>\n",
       "    <tr style=\"text-align: right;\">\n",
       "      <th></th>\n",
       "      <th>Arthritis</th>\n",
       "      <th>Asthma</th>\n",
       "      <th>Cancer</th>\n",
       "      <th>Dementia</th>\n",
       "      <th>Diabetes</th>\n",
       "      <th>HeartDisease</th>\n",
       "      <th>KidneyDisease</th>\n",
       "      <th>LungCondition</th>\n",
       "      <th>MentalHealthCondition</th>\n",
       "      <th>Stroke</th>\n",
       "      <th>otherLongTermHealthCond</th>\n",
       "      <th>NoLongTermHealthCond</th>\n",
       "      <th>NotStated</th>\n",
       "      <th>Age-Total</th>\n",
       "    </tr>\n",
       "    <tr>\n",
       "      <th>age</th>\n",
       "      <th></th>\n",
       "      <th></th>\n",
       "      <th></th>\n",
       "      <th></th>\n",
       "      <th></th>\n",
       "      <th></th>\n",
       "      <th></th>\n",
       "      <th></th>\n",
       "      <th></th>\n",
       "      <th></th>\n",
       "      <th></th>\n",
       "      <th></th>\n",
       "      <th></th>\n",
       "      <th></th>\n",
       "    </tr>\n",
       "  </thead>\n",
       "  <tbody>\n",
       "    <tr>\n",
       "      <th>0-14</th>\n",
       "      <td>858</td>\n",
       "      <td>74,452</td>\n",
       "      <td>1,096</td>\n",
       "      <td>80</td>\n",
       "      <td>1,785</td>\n",
       "      <td>2,089</td>\n",
       "      <td>1,246</td>\n",
       "      <td>1,092</td>\n",
       "      <td>23,107</td>\n",
       "      <td>403</td>\n",
       "      <td>45,011</td>\n",
       "      <td>9,45,340</td>\n",
       "      <td>90,329</td>\n",
       "      <td>11,69,456</td>\n",
       "    </tr>\n",
       "    <tr>\n",
       "      <th>15-24</th>\n",
       "      <td>3,293</td>\n",
       "      <td>67,333</td>\n",
       "      <td>1,432</td>\n",
       "      <td>113</td>\n",
       "      <td>3,941</td>\n",
       "      <td>1,753</td>\n",
       "      <td>1,069</td>\n",
       "      <td>854</td>\n",
       "      <td>82,294</td>\n",
       "      <td>426</td>\n",
       "      <td>40,141</td>\n",
       "      <td>5,46,938</td>\n",
       "      <td>60,985</td>\n",
       "      <td>7,73,536</td>\n",
       "    </tr>\n",
       "    <tr>\n",
       "      <th>25-34</th>\n",
       "      <td>11,637</td>\n",
       "      <td>87,461</td>\n",
       "      <td>3,755</td>\n",
       "      <td>164</td>\n",
       "      <td>9,034</td>\n",
       "      <td>3,086</td>\n",
       "      <td>2,063</td>\n",
       "      <td>1,619</td>\n",
       "      <td>1,10,898</td>\n",
       "      <td>841</td>\n",
       "      <td>55,917</td>\n",
       "      <td>6,76,524</td>\n",
       "      <td>75,553</td>\n",
       "      <td>9,75,493</td>\n",
       "    </tr>\n",
       "    <tr>\n",
       "      <th>35-44</th>\n",
       "      <td>24,624</td>\n",
       "      <td>82,130</td>\n",
       "      <td>8,297</td>\n",
       "      <td>205</td>\n",
       "      <td>20,919</td>\n",
       "      <td>5,969</td>\n",
       "      <td>3,272</td>\n",
       "      <td>3,076</td>\n",
       "      <td>94,621</td>\n",
       "      <td>1,869</td>\n",
       "      <td>63,450</td>\n",
       "      <td>6,17,573</td>\n",
       "      <td>67,444</td>\n",
       "      <td>9,18,738</td>\n",
       "    </tr>\n",
       "    <tr>\n",
       "      <th>45-54</th>\n",
       "      <td>56,107</td>\n",
       "      <td>70,847</td>\n",
       "      <td>18,603</td>\n",
       "      <td>572</td>\n",
       "      <td>39,381</td>\n",
       "      <td>16,861</td>\n",
       "      <td>5,344</td>\n",
       "      <td>7,940</td>\n",
       "      <td>90,254</td>\n",
       "      <td>4,757</td>\n",
       "      <td>75,706</td>\n",
       "      <td>4,95,448</td>\n",
       "      <td>62,183</td>\n",
       "      <td>8,26,885</td>\n",
       "    </tr>\n",
       "    <tr>\n",
       "      <th>55-64</th>\n",
       "      <td>1,08,774</td>\n",
       "      <td>62,836</td>\n",
       "      <td>35,952</td>\n",
       "      <td>1,679</td>\n",
       "      <td>66,764</td>\n",
       "      <td>41,654</td>\n",
       "      <td>8,833</td>\n",
       "      <td>18,364</td>\n",
       "      <td>77,478</td>\n",
       "      <td>9,268</td>\n",
       "      <td>88,069</td>\n",
       "      <td>3,65,070</td>\n",
       "      <td>53,548</td>\n",
       "      <td>7,46,547</td>\n",
       "    </tr>\n",
       "    <tr>\n",
       "      <th>65-74</th>\n",
       "      <td>1,47,703</td>\n",
       "      <td>55,144</td>\n",
       "      <td>53,641</td>\n",
       "      <td>5,857</td>\n",
       "      <td>84,590</td>\n",
       "      <td>71,480</td>\n",
       "      <td>13,440</td>\n",
       "      <td>29,306</td>\n",
       "      <td>50,386</td>\n",
       "      <td>15,652</td>\n",
       "      <td>76,926</td>\n",
       "      <td>2,15,966</td>\n",
       "      <td>41,360</td>\n",
       "      <td>6,05,557</td>\n",
       "    </tr>\n",
       "    <tr>\n",
       "      <th>75-84</th>\n",
       "      <td>1,13,084</td>\n",
       "      <td>31,506</td>\n",
       "      <td>40,743</td>\n",
       "      <td>16,232</td>\n",
       "      <td>56,999</td>\n",
       "      <td>65,103</td>\n",
       "      <td>13,897</td>\n",
       "      <td>24,675</td>\n",
       "      <td>26,240</td>\n",
       "      <td>16,613</td>\n",
       "      <td>46,775</td>\n",
       "      <td>84,155</td>\n",
       "      <td>26,469</td>\n",
       "      <td>3,44,801</td>\n",
       "    </tr>\n",
       "    <tr>\n",
       "      <th>85 years</th>\n",
       "      <td>52,545</td>\n",
       "      <td>11,336</td>\n",
       "      <td>15,812</td>\n",
       "      <td>21,041</td>\n",
       "      <td>19,955</td>\n",
       "      <td>35,116</td>\n",
       "      <td>8,286</td>\n",
       "      <td>10,352</td>\n",
       "      <td>15,871</td>\n",
       "      <td>10,026</td>\n",
       "      <td>27,113</td>\n",
       "      <td>22,486</td>\n",
       "      <td>14,840</td>\n",
       "      <td>1,42,475</td>\n",
       "    </tr>\n",
       "  </tbody>\n",
       "</table>\n",
       "</div>\n",
       "      <button class=\"colab-df-convert\" onclick=\"convertToInteractive('df-36754c59-8d78-4fe4-b596-e0a8d84dace5')\"\n",
       "              title=\"Convert this dataframe to an interactive table.\"\n",
       "              style=\"display:none;\">\n",
       "        \n",
       "  <svg xmlns=\"http://www.w3.org/2000/svg\" height=\"24px\"viewBox=\"0 0 24 24\"\n",
       "       width=\"24px\">\n",
       "    <path d=\"M0 0h24v24H0V0z\" fill=\"none\"/>\n",
       "    <path d=\"M18.56 5.44l.94 2.06.94-2.06 2.06-.94-2.06-.94-.94-2.06-.94 2.06-2.06.94zm-11 1L8.5 8.5l.94-2.06 2.06-.94-2.06-.94L8.5 2.5l-.94 2.06-2.06.94zm10 10l.94 2.06.94-2.06 2.06-.94-2.06-.94-.94-2.06-.94 2.06-2.06.94z\"/><path d=\"M17.41 7.96l-1.37-1.37c-.4-.4-.92-.59-1.43-.59-.52 0-1.04.2-1.43.59L10.3 9.45l-7.72 7.72c-.78.78-.78 2.05 0 2.83L4 21.41c.39.39.9.59 1.41.59.51 0 1.02-.2 1.41-.59l7.78-7.78 2.81-2.81c.8-.78.8-2.07 0-2.86zM5.41 20L4 18.59l7.72-7.72 1.47 1.35L5.41 20z\"/>\n",
       "  </svg>\n",
       "      </button>\n",
       "      \n",
       "  <style>\n",
       "    .colab-df-container {\n",
       "      display:flex;\n",
       "      flex-wrap:wrap;\n",
       "      gap: 12px;\n",
       "    }\n",
       "\n",
       "    .colab-df-convert {\n",
       "      background-color: #E8F0FE;\n",
       "      border: none;\n",
       "      border-radius: 50%;\n",
       "      cursor: pointer;\n",
       "      display: none;\n",
       "      fill: #1967D2;\n",
       "      height: 32px;\n",
       "      padding: 0 0 0 0;\n",
       "      width: 32px;\n",
       "    }\n",
       "\n",
       "    .colab-df-convert:hover {\n",
       "      background-color: #E2EBFA;\n",
       "      box-shadow: 0px 1px 2px rgba(60, 64, 67, 0.3), 0px 1px 3px 1px rgba(60, 64, 67, 0.15);\n",
       "      fill: #174EA6;\n",
       "    }\n",
       "\n",
       "    [theme=dark] .colab-df-convert {\n",
       "      background-color: #3B4455;\n",
       "      fill: #D2E3FC;\n",
       "    }\n",
       "\n",
       "    [theme=dark] .colab-df-convert:hover {\n",
       "      background-color: #434B5C;\n",
       "      box-shadow: 0px 1px 3px 1px rgba(0, 0, 0, 0.15);\n",
       "      filter: drop-shadow(0px 1px 2px rgba(0, 0, 0, 0.3));\n",
       "      fill: #FFFFFF;\n",
       "    }\n",
       "  </style>\n",
       "\n",
       "      <script>\n",
       "        const buttonEl =\n",
       "          document.querySelector('#df-36754c59-8d78-4fe4-b596-e0a8d84dace5 button.colab-df-convert');\n",
       "        buttonEl.style.display =\n",
       "          google.colab.kernel.accessAllowed ? 'block' : 'none';\n",
       "\n",
       "        async function convertToInteractive(key) {\n",
       "          const element = document.querySelector('#df-36754c59-8d78-4fe4-b596-e0a8d84dace5');\n",
       "          const dataTable =\n",
       "            await google.colab.kernel.invokeFunction('convertToInteractive',\n",
       "                                                     [key], {});\n",
       "          if (!dataTable) return;\n",
       "\n",
       "          const docLinkHtml = 'Like what you see? Visit the ' +\n",
       "            '<a target=\"_blank\" href=https://colab.research.google.com/notebooks/data_table.ipynb>data table notebook</a>'\n",
       "            + ' to learn more about interactive tables.';\n",
       "          element.innerHTML = '';\n",
       "          dataTable['output_type'] = 'display_data';\n",
       "          await google.colab.output.renderOutput(dataTable, element);\n",
       "          const docLink = document.createElement('div');\n",
       "          docLink.innerHTML = docLinkHtml;\n",
       "          element.appendChild(docLink);\n",
       "        }\n",
       "      </script>\n",
       "    </div>\n",
       "  </div>\n",
       "  "
      ],
      "text/plain": [
       "         Arthritis  Asthma  Cancer Dementia Diabetes HeartDisease  \\\n",
       "age                                                                 \n",
       "0-14           858  74,452   1,096       80    1,785        2,089   \n",
       "15-24        3,293  67,333   1,432      113    3,941        1,753   \n",
       "25-34       11,637  87,461   3,755      164    9,034        3,086   \n",
       "35-44       24,624  82,130   8,297      205   20,919        5,969   \n",
       "45-54       56,107  70,847  18,603      572   39,381       16,861   \n",
       "55-64     1,08,774  62,836  35,952    1,679   66,764       41,654   \n",
       "65-74     1,47,703  55,144  53,641    5,857   84,590       71,480   \n",
       "75-84     1,13,084  31,506  40,743   16,232   56,999       65,103   \n",
       "85 years    52,545  11,336  15,812   21,041   19,955       35,116   \n",
       "\n",
       "         KidneyDisease LungCondition MentalHealthCondition  Stroke  \\\n",
       "age                                                                  \n",
       "0-14             1,246         1,092                23,107     403   \n",
       "15-24            1,069           854                82,294     426   \n",
       "25-34            2,063         1,619              1,10,898     841   \n",
       "35-44            3,272         3,076                94,621   1,869   \n",
       "45-54            5,344         7,940                90,254   4,757   \n",
       "55-64            8,833        18,364                77,478   9,268   \n",
       "65-74           13,440        29,306                50,386  15,652   \n",
       "75-84           13,897        24,675                26,240  16,613   \n",
       "85 years         8,286        10,352                15,871  10,026   \n",
       "\n",
       "         otherLongTermHealthCond NoLongTermHealthCond NotStated  Age-Total  \n",
       "age                                                                         \n",
       "0-14                      45,011             9,45,340    90,329  11,69,456  \n",
       "15-24                     40,141             5,46,938    60,985   7,73,536  \n",
       "25-34                     55,917             6,76,524    75,553   9,75,493  \n",
       "35-44                     63,450             6,17,573    67,444   9,18,738  \n",
       "45-54                     75,706             4,95,448    62,183   8,26,885  \n",
       "55-64                     88,069             3,65,070    53,548   7,46,547  \n",
       "65-74                     76,926             2,15,966    41,360   6,05,557  \n",
       "75-84                     46,775               84,155    26,469   3,44,801  \n",
       "85 years                  27,113               22,486    14,840   1,42,475  "
      ]
     },
     "execution_count": 25,
     "metadata": {},
     "output_type": "execute_result"
    }
   ],
   "source": [
    "df_comorbidities_stat = pd.read_csv('comorbidities_stat.csv')\n",
    "# setting Comorbidities  as index column\n",
    "df_comorbidities_stat.set_index(\"age\", inplace = True)\n",
    "df_comorbidities_stat"
   ]
  },
  {
   "cell_type": "code",
   "execution_count": 26,
   "metadata": {
    "id": "33000688"
   },
   "outputs": [],
   "source": [
    "#Changing the categorical to numeric\n",
    "cols_stat = df_comorbidities_stat.columns\n",
    "df_comorbidities_stat[cols_stat] = df_comorbidities_stat[cols_stat].replace({'\\$': '', ',': ''}, regex=True)\n",
    "df_comorbidities_stat[cols_stat] = df_comorbidities_stat[cols_stat].astype('int64')"
   ]
  },
  {
   "cell_type": "code",
   "execution_count": 27,
   "metadata": {
    "colab": {
     "base_uri": "https://localhost:8080/"
    },
    "id": "be0087d8",
    "outputId": "e413f1f4-50f8-4cb5-be57-82dbc2e4099e"
   },
   "outputs": [
    {
     "name": "stdout",
     "output_type": "stream",
     "text": [
      "<class 'pandas.core.frame.DataFrame'>\n",
      "Index: 9 entries, 0-14  to 85 years\n",
      "Data columns (total 14 columns):\n",
      " #   Column                   Non-Null Count  Dtype\n",
      "---  ------                   --------------  -----\n",
      " 0   Arthritis                9 non-null      int64\n",
      " 1   Asthma                   9 non-null      int64\n",
      " 2   Cancer                   9 non-null      int64\n",
      " 3   Dementia                 9 non-null      int64\n",
      " 4   Diabetes                 9 non-null      int64\n",
      " 5   HeartDisease             9 non-null      int64\n",
      " 6   KidneyDisease            9 non-null      int64\n",
      " 7   LungCondition            9 non-null      int64\n",
      " 8   MentalHealthCondition    9 non-null      int64\n",
      " 9   Stroke                   9 non-null      int64\n",
      " 10  otherLongTermHealthCond  9 non-null      int64\n",
      " 11  NoLongTermHealthCond     9 non-null      int64\n",
      " 12  NotStated                9 non-null      int64\n",
      " 13  Age-Total                9 non-null      int64\n",
      "dtypes: int64(14)\n",
      "memory usage: 1.1+ KB\n",
      "None\n"
     ]
    }
   ],
   "source": [
    "print(df_comorbidities_stat.info())"
   ]
  },
  {
   "cell_type": "code",
   "execution_count": 28,
   "metadata": {
    "colab": {
     "base_uri": "https://localhost:8080/",
     "height": 364
    },
    "id": "d60181a9",
    "outputId": "67d747a7-6a1a-4268-b9a1-024f937111f2"
   },
   "outputs": [
    {
     "data": {
      "text/html": [
       "\n",
       "  <div id=\"df-33302b0e-f225-4caa-937d-6ad908caff53\">\n",
       "    <div class=\"colab-df-container\">\n",
       "      <div>\n",
       "<style scoped>\n",
       "    .dataframe tbody tr th:only-of-type {\n",
       "        vertical-align: middle;\n",
       "    }\n",
       "\n",
       "    .dataframe tbody tr th {\n",
       "        vertical-align: top;\n",
       "    }\n",
       "\n",
       "    .dataframe thead th {\n",
       "        text-align: right;\n",
       "    }\n",
       "</style>\n",
       "<table border=\"1\" class=\"dataframe\">\n",
       "  <thead>\n",
       "    <tr style=\"text-align: right;\">\n",
       "      <th></th>\n",
       "      <th>Arthritis</th>\n",
       "      <th>Asthma</th>\n",
       "      <th>Cancer</th>\n",
       "      <th>Dementia</th>\n",
       "      <th>Diabetes</th>\n",
       "      <th>HeartDisease</th>\n",
       "      <th>KidneyDisease</th>\n",
       "      <th>LungCondition</th>\n",
       "      <th>MentalHealthCondition</th>\n",
       "      <th>Stroke</th>\n",
       "      <th>otherLongTermHealthCond</th>\n",
       "      <th>NoLongTermHealthCond</th>\n",
       "      <th>NotStated</th>\n",
       "      <th>Age-Total</th>\n",
       "    </tr>\n",
       "  </thead>\n",
       "  <tbody>\n",
       "    <tr>\n",
       "      <th>count</th>\n",
       "      <td>9.000000</td>\n",
       "      <td>9.000000</td>\n",
       "      <td>9.000000</td>\n",
       "      <td>9.000000</td>\n",
       "      <td>9.000000</td>\n",
       "      <td>9.000000</td>\n",
       "      <td>9.000000</td>\n",
       "      <td>9.000000</td>\n",
       "      <td>9.000000</td>\n",
       "      <td>9.000000</td>\n",
       "      <td>9.000000</td>\n",
       "      <td>9.000000</td>\n",
       "      <td>9.000000</td>\n",
       "      <td>9.000000e+00</td>\n",
       "    </tr>\n",
       "    <tr>\n",
       "      <th>mean</th>\n",
       "      <td>57625.000000</td>\n",
       "      <td>60338.333333</td>\n",
       "      <td>19925.666667</td>\n",
       "      <td>5104.777778</td>\n",
       "      <td>33707.555556</td>\n",
       "      <td>27012.333333</td>\n",
       "      <td>6383.333333</td>\n",
       "      <td>10808.666667</td>\n",
       "      <td>63461.000000</td>\n",
       "      <td>6650.555556</td>\n",
       "      <td>57678.666667</td>\n",
       "      <td>441055.555556</td>\n",
       "      <td>54745.666667</td>\n",
       "      <td>7.226098e+05</td>\n",
       "    </tr>\n",
       "    <tr>\n",
       "      <th>std</th>\n",
       "      <td>53866.151649</td>\n",
       "      <td>24583.582840</td>\n",
       "      <td>19166.665503</td>\n",
       "      <td>7978.184815</td>\n",
       "      <td>29839.136826</td>\n",
       "      <td>27581.396402</td>\n",
       "      <td>4999.161930</td>\n",
       "      <td>10826.475084</td>\n",
       "      <td>35248.846573</td>\n",
       "      <td>6485.539166</td>\n",
       "      <td>19926.797792</td>\n",
       "      <td>298767.011974</td>\n",
       "      <td>23788.789891</td>\n",
       "      <td>3.180261e+05</td>\n",
       "    </tr>\n",
       "    <tr>\n",
       "      <th>min</th>\n",
       "      <td>858.000000</td>\n",
       "      <td>11336.000000</td>\n",
       "      <td>1096.000000</td>\n",
       "      <td>80.000000</td>\n",
       "      <td>1785.000000</td>\n",
       "      <td>1753.000000</td>\n",
       "      <td>1069.000000</td>\n",
       "      <td>854.000000</td>\n",
       "      <td>15871.000000</td>\n",
       "      <td>403.000000</td>\n",
       "      <td>27113.000000</td>\n",
       "      <td>22486.000000</td>\n",
       "      <td>14840.000000</td>\n",
       "      <td>1.424750e+05</td>\n",
       "    </tr>\n",
       "    <tr>\n",
       "      <th>25%</th>\n",
       "      <td>11637.000000</td>\n",
       "      <td>55144.000000</td>\n",
       "      <td>3755.000000</td>\n",
       "      <td>164.000000</td>\n",
       "      <td>9034.000000</td>\n",
       "      <td>3086.000000</td>\n",
       "      <td>2063.000000</td>\n",
       "      <td>1619.000000</td>\n",
       "      <td>26240.000000</td>\n",
       "      <td>841.000000</td>\n",
       "      <td>45011.000000</td>\n",
       "      <td>215966.000000</td>\n",
       "      <td>41360.000000</td>\n",
       "      <td>6.055570e+05</td>\n",
       "    </tr>\n",
       "    <tr>\n",
       "      <th>50%</th>\n",
       "      <td>52545.000000</td>\n",
       "      <td>67333.000000</td>\n",
       "      <td>15812.000000</td>\n",
       "      <td>572.000000</td>\n",
       "      <td>20919.000000</td>\n",
       "      <td>16861.000000</td>\n",
       "      <td>5344.000000</td>\n",
       "      <td>7940.000000</td>\n",
       "      <td>77478.000000</td>\n",
       "      <td>4757.000000</td>\n",
       "      <td>55917.000000</td>\n",
       "      <td>495448.000000</td>\n",
       "      <td>60985.000000</td>\n",
       "      <td>7.735360e+05</td>\n",
       "    </tr>\n",
       "    <tr>\n",
       "      <th>75%</th>\n",
       "      <td>108774.000000</td>\n",
       "      <td>74452.000000</td>\n",
       "      <td>35952.000000</td>\n",
       "      <td>5857.000000</td>\n",
       "      <td>56999.000000</td>\n",
       "      <td>41654.000000</td>\n",
       "      <td>8833.000000</td>\n",
       "      <td>18364.000000</td>\n",
       "      <td>90254.000000</td>\n",
       "      <td>10026.000000</td>\n",
       "      <td>75706.000000</td>\n",
       "      <td>617573.000000</td>\n",
       "      <td>67444.000000</td>\n",
       "      <td>9.187380e+05</td>\n",
       "    </tr>\n",
       "    <tr>\n",
       "      <th>max</th>\n",
       "      <td>147703.000000</td>\n",
       "      <td>87461.000000</td>\n",
       "      <td>53641.000000</td>\n",
       "      <td>21041.000000</td>\n",
       "      <td>84590.000000</td>\n",
       "      <td>71480.000000</td>\n",
       "      <td>13897.000000</td>\n",
       "      <td>29306.000000</td>\n",
       "      <td>110898.000000</td>\n",
       "      <td>16613.000000</td>\n",
       "      <td>88069.000000</td>\n",
       "      <td>945340.000000</td>\n",
       "      <td>90329.000000</td>\n",
       "      <td>1.169456e+06</td>\n",
       "    </tr>\n",
       "  </tbody>\n",
       "</table>\n",
       "</div>\n",
       "      <button class=\"colab-df-convert\" onclick=\"convertToInteractive('df-33302b0e-f225-4caa-937d-6ad908caff53')\"\n",
       "              title=\"Convert this dataframe to an interactive table.\"\n",
       "              style=\"display:none;\">\n",
       "        \n",
       "  <svg xmlns=\"http://www.w3.org/2000/svg\" height=\"24px\"viewBox=\"0 0 24 24\"\n",
       "       width=\"24px\">\n",
       "    <path d=\"M0 0h24v24H0V0z\" fill=\"none\"/>\n",
       "    <path d=\"M18.56 5.44l.94 2.06.94-2.06 2.06-.94-2.06-.94-.94-2.06-.94 2.06-2.06.94zm-11 1L8.5 8.5l.94-2.06 2.06-.94-2.06-.94L8.5 2.5l-.94 2.06-2.06.94zm10 10l.94 2.06.94-2.06 2.06-.94-2.06-.94-.94-2.06-.94 2.06-2.06.94z\"/><path d=\"M17.41 7.96l-1.37-1.37c-.4-.4-.92-.59-1.43-.59-.52 0-1.04.2-1.43.59L10.3 9.45l-7.72 7.72c-.78.78-.78 2.05 0 2.83L4 21.41c.39.39.9.59 1.41.59.51 0 1.02-.2 1.41-.59l7.78-7.78 2.81-2.81c.8-.78.8-2.07 0-2.86zM5.41 20L4 18.59l7.72-7.72 1.47 1.35L5.41 20z\"/>\n",
       "  </svg>\n",
       "      </button>\n",
       "      \n",
       "  <style>\n",
       "    .colab-df-container {\n",
       "      display:flex;\n",
       "      flex-wrap:wrap;\n",
       "      gap: 12px;\n",
       "    }\n",
       "\n",
       "    .colab-df-convert {\n",
       "      background-color: #E8F0FE;\n",
       "      border: none;\n",
       "      border-radius: 50%;\n",
       "      cursor: pointer;\n",
       "      display: none;\n",
       "      fill: #1967D2;\n",
       "      height: 32px;\n",
       "      padding: 0 0 0 0;\n",
       "      width: 32px;\n",
       "    }\n",
       "\n",
       "    .colab-df-convert:hover {\n",
       "      background-color: #E2EBFA;\n",
       "      box-shadow: 0px 1px 2px rgba(60, 64, 67, 0.3), 0px 1px 3px 1px rgba(60, 64, 67, 0.15);\n",
       "      fill: #174EA6;\n",
       "    }\n",
       "\n",
       "    [theme=dark] .colab-df-convert {\n",
       "      background-color: #3B4455;\n",
       "      fill: #D2E3FC;\n",
       "    }\n",
       "\n",
       "    [theme=dark] .colab-df-convert:hover {\n",
       "      background-color: #434B5C;\n",
       "      box-shadow: 0px 1px 3px 1px rgba(0, 0, 0, 0.15);\n",
       "      filter: drop-shadow(0px 1px 2px rgba(0, 0, 0, 0.3));\n",
       "      fill: #FFFFFF;\n",
       "    }\n",
       "  </style>\n",
       "\n",
       "      <script>\n",
       "        const buttonEl =\n",
       "          document.querySelector('#df-33302b0e-f225-4caa-937d-6ad908caff53 button.colab-df-convert');\n",
       "        buttonEl.style.display =\n",
       "          google.colab.kernel.accessAllowed ? 'block' : 'none';\n",
       "\n",
       "        async function convertToInteractive(key) {\n",
       "          const element = document.querySelector('#df-33302b0e-f225-4caa-937d-6ad908caff53');\n",
       "          const dataTable =\n",
       "            await google.colab.kernel.invokeFunction('convertToInteractive',\n",
       "                                                     [key], {});\n",
       "          if (!dataTable) return;\n",
       "\n",
       "          const docLinkHtml = 'Like what you see? Visit the ' +\n",
       "            '<a target=\"_blank\" href=https://colab.research.google.com/notebooks/data_table.ipynb>data table notebook</a>'\n",
       "            + ' to learn more about interactive tables.';\n",
       "          element.innerHTML = '';\n",
       "          dataTable['output_type'] = 'display_data';\n",
       "          await google.colab.output.renderOutput(dataTable, element);\n",
       "          const docLink = document.createElement('div');\n",
       "          docLink.innerHTML = docLinkHtml;\n",
       "          element.appendChild(docLink);\n",
       "        }\n",
       "      </script>\n",
       "    </div>\n",
       "  </div>\n",
       "  "
      ],
      "text/plain": [
       "           Arthritis        Asthma        Cancer      Dementia      Diabetes  \\\n",
       "count       9.000000      9.000000      9.000000      9.000000      9.000000   \n",
       "mean    57625.000000  60338.333333  19925.666667   5104.777778  33707.555556   \n",
       "std     53866.151649  24583.582840  19166.665503   7978.184815  29839.136826   \n",
       "min       858.000000  11336.000000   1096.000000     80.000000   1785.000000   \n",
       "25%     11637.000000  55144.000000   3755.000000    164.000000   9034.000000   \n",
       "50%     52545.000000  67333.000000  15812.000000    572.000000  20919.000000   \n",
       "75%    108774.000000  74452.000000  35952.000000   5857.000000  56999.000000   \n",
       "max    147703.000000  87461.000000  53641.000000  21041.000000  84590.000000   \n",
       "\n",
       "       HeartDisease  KidneyDisease  LungCondition  MentalHealthCondition  \\\n",
       "count      9.000000       9.000000       9.000000               9.000000   \n",
       "mean   27012.333333    6383.333333   10808.666667           63461.000000   \n",
       "std    27581.396402    4999.161930   10826.475084           35248.846573   \n",
       "min     1753.000000    1069.000000     854.000000           15871.000000   \n",
       "25%     3086.000000    2063.000000    1619.000000           26240.000000   \n",
       "50%    16861.000000    5344.000000    7940.000000           77478.000000   \n",
       "75%    41654.000000    8833.000000   18364.000000           90254.000000   \n",
       "max    71480.000000   13897.000000   29306.000000          110898.000000   \n",
       "\n",
       "             Stroke  otherLongTermHealthCond  NoLongTermHealthCond  \\\n",
       "count      9.000000                 9.000000              9.000000   \n",
       "mean    6650.555556             57678.666667         441055.555556   \n",
       "std     6485.539166             19926.797792         298767.011974   \n",
       "min      403.000000             27113.000000          22486.000000   \n",
       "25%      841.000000             45011.000000         215966.000000   \n",
       "50%     4757.000000             55917.000000         495448.000000   \n",
       "75%    10026.000000             75706.000000         617573.000000   \n",
       "max    16613.000000             88069.000000         945340.000000   \n",
       "\n",
       "          NotStated     Age-Total  \n",
       "count      9.000000  9.000000e+00  \n",
       "mean   54745.666667  7.226098e+05  \n",
       "std    23788.789891  3.180261e+05  \n",
       "min    14840.000000  1.424750e+05  \n",
       "25%    41360.000000  6.055570e+05  \n",
       "50%    60985.000000  7.735360e+05  \n",
       "75%    67444.000000  9.187380e+05  \n",
       "max    90329.000000  1.169456e+06  "
      ]
     },
     "execution_count": 28,
     "metadata": {},
     "output_type": "execute_result"
    }
   ],
   "source": [
    "df_comorbidities_stat.describe()"
   ]
  },
  {
   "cell_type": "markdown",
   "metadata": {
    "id": "5da20884"
   },
   "source": [
    "### Statistical distribution of Asthma in various age group"
   ]
  },
  {
   "cell_type": "code",
   "execution_count": 29,
   "metadata": {
    "colab": {
     "base_uri": "https://localhost:8080/",
     "height": 0
    },
    "id": "154c29cd",
    "outputId": "07d79ecb-c909-4289-ce0f-f0046aabe0d6"
   },
   "outputs": [
    {
     "name": "stderr",
     "output_type": "stream",
     "text": [
      "/usr/local/lib/python3.7/dist-packages/seaborn/distributions.py:2619: FutureWarning:\n",
      "\n",
      "`distplot` is a deprecated function and will be removed in a future version. Please adapt your code to use either `displot` (a figure-level function with similar flexibility) or `histplot` (an axes-level function for histograms).\n",
      "\n"
     ]
    },
    {
     "data": {
      "text/plain": [
       "<matplotlib.axes._subplots.AxesSubplot at 0x7f898dd7bd50>"
      ]
     },
     "execution_count": 29,
     "metadata": {},
     "output_type": "execute_result"
    },
    {
     "data": {
      "image/png": "[encoded data removed]",
      "text/plain": [
       "<Figure size 432x288 with 1 Axes>"
      ]
     },
     "metadata": {},
     "output_type": "display_data"
    }
   ],
   "source": [
    "sns.distplot(df_comorbidities_stat['Asthma'])"
   ]
  },
  {
   "cell_type": "markdown",
   "metadata": {
    "id": "6bb18374"
   },
   "source": [
    "### Statistical distribution of Cancer in various age group"
   ]
  },
  {
   "cell_type": "code",
   "execution_count": 30,
   "metadata": {
    "colab": {
     "base_uri": "https://localhost:8080/",
     "height": 403
    },
    "id": "999c85a7",
    "outputId": "0a3090ec-41d3-4590-deba-780b9afedea0"
   },
   "outputs": [
    {
     "name": "stderr",
     "output_type": "stream",
     "text": [
      "/usr/local/lib/python3.7/dist-packages/seaborn/distributions.py:2619: FutureWarning:\n",
      "\n",
      "`distplot` is a deprecated function and will be removed in a future version. Please adapt your code to use either `displot` (a figure-level function with similar flexibility) or `histplot` (an axes-level function for histograms).\n",
      "\n"
     ]
    },
    {
     "data": {
      "text/plain": [
       "<matplotlib.axes._subplots.AxesSubplot at 0x7f898dcce310>"
      ]
     },
     "execution_count": 30,
     "metadata": {},
     "output_type": "execute_result"
    },
    {
     "data": {
      "image/png": "[encoded data removed]",
      "text/plain": [
       "<Figure size 432x288 with 1 Axes>"
      ]
     },
     "metadata": {},
     "output_type": "display_data"
    }
   ],
   "source": [
    "sns.distplot(df_comorbidities_stat['Cancer'])"
   ]
  },
  {
   "cell_type": "markdown",
   "metadata": {
    "id": "f4c55c7c"
   },
   "source": [
    "### Statistical distribution of Diabetes in various age group"
   ]
  },
  {
   "cell_type": "code",
   "execution_count": 31,
   "metadata": {
    "colab": {
     "base_uri": "https://localhost:8080/",
     "height": 403
    },
    "id": "c51fc63d",
    "outputId": "7eced557-573d-4ce3-bb98-fa913e9325c1"
   },
   "outputs": [
    {
     "name": "stderr",
     "output_type": "stream",
     "text": [
      "/usr/local/lib/python3.7/dist-packages/seaborn/distributions.py:2619: FutureWarning:\n",
      "\n",
      "`distplot` is a deprecated function and will be removed in a future version. Please adapt your code to use either `displot` (a figure-level function with similar flexibility) or `histplot` (an axes-level function for histograms).\n",
      "\n"
     ]
    },
    {
     "data": {
      "text/plain": [
       "<matplotlib.axes._subplots.AxesSubplot at 0x7f898dc4c290>"
      ]
     },
     "execution_count": 31,
     "metadata": {},
     "output_type": "execute_result"
    },
    {
     "data": {
      "image/png": "[encoded data removed]",
      "text/plain": [
       "<Figure size 432x288 with 1 Axes>"
      ]
     },
     "metadata": {},
     "output_type": "display_data"
    }
   ],
   "source": [
    "sns.distplot(df_comorbidities_stat['Diabetes'])"
   ]
  },
  {
   "cell_type": "markdown",
   "metadata": {
    "id": "48a851f9"
   },
   "source": [
    "### Statistical distribution of Mental-health-condition in various age group"
   ]
  },
  {
   "cell_type": "code",
   "execution_count": 32,
   "metadata": {
    "colab": {
     "base_uri": "https://localhost:8080/",
     "height": 403
    },
    "id": "6e28928b",
    "outputId": "3158b5fb-1f35-4330-eb81-f94bb3884a44"
   },
   "outputs": [
    {
     "name": "stderr",
     "output_type": "stream",
     "text": [
      "/usr/local/lib/python3.7/dist-packages/seaborn/distributions.py:2619: FutureWarning:\n",
      "\n",
      "`distplot` is a deprecated function and will be removed in a future version. Please adapt your code to use either `displot` (a figure-level function with similar flexibility) or `histplot` (an axes-level function for histograms).\n",
      "\n"
     ]
    },
    {
     "data": {
      "text/plain": [
       "<matplotlib.axes._subplots.AxesSubplot at 0x7f898dbb6b90>"
      ]
     },
     "execution_count": 32,
     "metadata": {},
     "output_type": "execute_result"
    },
    {
     "data": {
      "image/png": "[encoded data removed]",
      "text/plain": [
       "<Figure size 432x288 with 1 Axes>"
      ]
     },
     "metadata": {},
     "output_type": "display_data"
    }
   ],
   "source": [
    "sns.distplot(df_comorbidities_stat['MentalHealthCondition'])"
   ]
  },
  {
   "cell_type": "code",
   "execution_count": 33,
   "metadata": {
    "colab": {
     "base_uri": "https://localhost:8080/"
    },
    "id": "d743c175",
    "outputId": "5d8bbd88-7d34-4bec-9072-c89d913b504b"
   },
   "outputs": [
    {
     "data": {
      "text/plain": [
       "Index(['Arthritis', 'Asthma', 'Cancer', 'Dementia', 'Diabetes', 'HeartDisease',\n",
       "       'KidneyDisease', 'LungCondition', 'MentalHealthCondition', 'Stroke',\n",
       "       'otherLongTermHealthCond', 'NoLongTermHealthCond', 'NotStated',\n",
       "       'Age-Total'],\n",
       "      dtype='object')"
      ]
     },
     "execution_count": 33,
     "metadata": {},
     "output_type": "execute_result"
    }
   ],
   "source": [
    "df_comorbidities_stat.columns"
   ]
  },
  {
   "cell_type": "markdown",
   "metadata": {
    "id": "e3a84300"
   },
   "source": [
    "### Statistical distribution of Kidney-Disease in various age group"
   ]
  },
  {
   "cell_type": "code",
   "execution_count": 34,
   "metadata": {
    "colab": {
     "base_uri": "https://localhost:8080/",
     "height": 403
    },
    "id": "97a6cc2c",
    "outputId": "3073b8ff-30dd-4c07-b013-4d12505d0bef"
   },
   "outputs": [
    {
     "name": "stderr",
     "output_type": "stream",
     "text": [
      "/usr/local/lib/python3.7/dist-packages/seaborn/distributions.py:2619: FutureWarning:\n",
      "\n",
      "`distplot` is a deprecated function and will be removed in a future version. Please adapt your code to use either `displot` (a figure-level function with similar flexibility) or `histplot` (an axes-level function for histograms).\n",
      "\n"
     ]
    },
    {
     "data": {
      "text/plain": [
       "<matplotlib.axes._subplots.AxesSubplot at 0x7f898db639d0>"
      ]
     },
     "execution_count": 34,
     "metadata": {},
     "output_type": "execute_result"
    },
    {
     "data": {
      "image/png": "[encoded data removed]",
      "text/plain": [
       "<Figure size 432x288 with 1 Axes>"
      ]
     },
     "metadata": {},
     "output_type": "display_data"
    }
   ],
   "source": [
    "sns.distplot(df_comorbidities_stat['KidneyDisease'])"
   ]
  },
  {
   "cell_type": "markdown",
   "metadata": {
    "id": "ae16d0ae"
   },
   "source": [
    "## Identify imbalance in Comorbidities \n",
    "\n"
   ]
  },
  {
   "cell_type": "code",
   "execution_count": 35,
   "metadata": {
    "colab": {
     "base_uri": "https://localhost:8080/",
     "height": 266
    },
    "id": "100a9643",
    "outputId": "009c5688-3ad4-4ea4-f86b-538c7e044b2e"
   },
   "outputs": [
    {
     "data": {
      "text/html": [
       "\n",
       "  <div id=\"df-3b9b3678-c85d-4d9f-acb1-a387d6786f59\">\n",
       "    <div class=\"colab-df-container\">\n",
       "      <div>\n",
       "<style scoped>\n",
       "    .dataframe tbody tr th:only-of-type {\n",
       "        vertical-align: middle;\n",
       "    }\n",
       "\n",
       "    .dataframe tbody tr th {\n",
       "        vertical-align: top;\n",
       "    }\n",
       "\n",
       "    .dataframe thead th {\n",
       "        text-align: right;\n",
       "    }\n",
       "</style>\n",
       "<table border=\"1\" class=\"dataframe\">\n",
       "  <thead>\n",
       "    <tr style=\"text-align: right;\">\n",
       "      <th></th>\n",
       "      <th>Total</th>\n",
       "      <th>Male-Total</th>\n",
       "      <th>M_0-14</th>\n",
       "      <th>M_15-24</th>\n",
       "      <th>M_25-34</th>\n",
       "      <th>M_35-44</th>\n",
       "      <th>M_45-54</th>\n",
       "      <th>M_55-64</th>\n",
       "      <th>M_65-74</th>\n",
       "      <th>M_75-84</th>\n",
       "      <th>...</th>\n",
       "      <th>Female-total</th>\n",
       "      <th>F_0-14</th>\n",
       "      <th>F_15-24</th>\n",
       "      <th>F_25-34</th>\n",
       "      <th>F_35-44</th>\n",
       "      <th>F_45-54</th>\n",
       "      <th>F_55-64</th>\n",
       "      <th>F_65-74</th>\n",
       "      <th>F_75-84</th>\n",
       "      <th>F_85</th>\n",
       "    </tr>\n",
       "    <tr>\n",
       "      <th>Comorbidities</th>\n",
       "      <th></th>\n",
       "      <th></th>\n",
       "      <th></th>\n",
       "      <th></th>\n",
       "      <th></th>\n",
       "      <th></th>\n",
       "      <th></th>\n",
       "      <th></th>\n",
       "      <th></th>\n",
       "      <th></th>\n",
       "      <th></th>\n",
       "      <th></th>\n",
       "      <th></th>\n",
       "      <th></th>\n",
       "      <th></th>\n",
       "      <th></th>\n",
       "      <th></th>\n",
       "      <th></th>\n",
       "      <th></th>\n",
       "      <th></th>\n",
       "      <th></th>\n",
       "    </tr>\n",
       "  </thead>\n",
       "  <tbody>\n",
       "    <tr>\n",
       "      <th>Arthritis</th>\n",
       "      <td>518641</td>\n",
       "      <td>183276</td>\n",
       "      <td>410</td>\n",
       "      <td>1255</td>\n",
       "      <td>4859</td>\n",
       "      <td>9836</td>\n",
       "      <td>20218</td>\n",
       "      <td>38927</td>\n",
       "      <td>52812</td>\n",
       "      <td>39517</td>\n",
       "      <td>...</td>\n",
       "      <td>335365</td>\n",
       "      <td>447</td>\n",
       "      <td>2041</td>\n",
       "      <td>6777</td>\n",
       "      <td>14795</td>\n",
       "      <td>35893</td>\n",
       "      <td>69851</td>\n",
       "      <td>94887</td>\n",
       "      <td>73573</td>\n",
       "      <td>37101</td>\n",
       "    </tr>\n",
       "    <tr>\n",
       "      <th>Asthma</th>\n",
       "      <td>543047</td>\n",
       "      <td>244002</td>\n",
       "      <td>45210</td>\n",
       "      <td>33478</td>\n",
       "      <td>38793</td>\n",
       "      <td>36650</td>\n",
       "      <td>29228</td>\n",
       "      <td>24778</td>\n",
       "      <td>20611</td>\n",
       "      <td>11553</td>\n",
       "      <td>...</td>\n",
       "      <td>299045</td>\n",
       "      <td>29239</td>\n",
       "      <td>33855</td>\n",
       "      <td>48672</td>\n",
       "      <td>45483</td>\n",
       "      <td>41617</td>\n",
       "      <td>38055</td>\n",
       "      <td>34529</td>\n",
       "      <td>19959</td>\n",
       "      <td>7636</td>\n",
       "    </tr>\n",
       "    <tr>\n",
       "      <th>Cancer</th>\n",
       "      <td>179304</td>\n",
       "      <td>85362</td>\n",
       "      <td>618</td>\n",
       "      <td>758</td>\n",
       "      <td>1719</td>\n",
       "      <td>3080</td>\n",
       "      <td>6378</td>\n",
       "      <td>15458</td>\n",
       "      <td>27387</td>\n",
       "      <td>22150</td>\n",
       "      <td>...</td>\n",
       "      <td>93942</td>\n",
       "      <td>478</td>\n",
       "      <td>667</td>\n",
       "      <td>2030</td>\n",
       "      <td>5210</td>\n",
       "      <td>12221</td>\n",
       "      <td>20493</td>\n",
       "      <td>26255</td>\n",
       "      <td>18593</td>\n",
       "      <td>7995</td>\n",
       "    </tr>\n",
       "  </tbody>\n",
       "</table>\n",
       "<p>3 rows × 21 columns</p>\n",
       "</div>\n",
       "      <button class=\"colab-df-convert\" onclick=\"convertToInteractive('df-3b9b3678-c85d-4d9f-acb1-a387d6786f59')\"\n",
       "              title=\"Convert this dataframe to an interactive table.\"\n",
       "              style=\"display:none;\">\n",
       "        \n",
       "  <svg xmlns=\"http://www.w3.org/2000/svg\" height=\"24px\"viewBox=\"0 0 24 24\"\n",
       "       width=\"24px\">\n",
       "    <path d=\"M0 0h24v24H0V0z\" fill=\"none\"/>\n",
       "    <path d=\"M18.56 5.44l.94 2.06.94-2.06 2.06-.94-2.06-.94-.94-2.06-.94 2.06-2.06.94zm-11 1L8.5 8.5l.94-2.06 2.06-.94-2.06-.94L8.5 2.5l-.94 2.06-2.06.94zm10 10l.94 2.06.94-2.06 2.06-.94-2.06-.94-.94-2.06-.94 2.06-2.06.94z\"/><path d=\"M17.41 7.96l-1.37-1.37c-.4-.4-.92-.59-1.43-.59-.52 0-1.04.2-1.43.59L10.3 9.45l-7.72 7.72c-.78.78-.78 2.05 0 2.83L4 21.41c.39.39.9.59 1.41.59.51 0 1.02-.2 1.41-.59l7.78-7.78 2.81-2.81c.8-.78.8-2.07 0-2.86zM5.41 20L4 18.59l7.72-7.72 1.47 1.35L5.41 20z\"/>\n",
       "  </svg>\n",
       "      </button>\n",
       "      \n",
       "  <style>\n",
       "    .colab-df-container {\n",
       "      display:flex;\n",
       "      flex-wrap:wrap;\n",
       "      gap: 12px;\n",
       "    }\n",
       "\n",
       "    .colab-df-convert {\n",
       "      background-color: #E8F0FE;\n",
       "      border: none;\n",
       "      border-radius: 50%;\n",
       "      cursor: pointer;\n",
       "      display: none;\n",
       "      fill: #1967D2;\n",
       "      height: 32px;\n",
       "      padding: 0 0 0 0;\n",
       "      width: 32px;\n",
       "    }\n",
       "\n",
       "    .colab-df-convert:hover {\n",
       "      background-color: #E2EBFA;\n",
       "      box-shadow: 0px 1px 2px rgba(60, 64, 67, 0.3), 0px 1px 3px 1px rgba(60, 64, 67, 0.15);\n",
       "      fill: #174EA6;\n",
       "    }\n",
       "\n",
       "    [theme=dark] .colab-df-convert {\n",
       "      background-color: #3B4455;\n",
       "      fill: #D2E3FC;\n",
       "    }\n",
       "\n",
       "    [theme=dark] .colab-df-convert:hover {\n",
       "      background-color: #434B5C;\n",
       "      box-shadow: 0px 1px 3px 1px rgba(0, 0, 0, 0.15);\n",
       "      filter: drop-shadow(0px 1px 2px rgba(0, 0, 0, 0.3));\n",
       "      fill: #FFFFFF;\n",
       "    }\n",
       "  </style>\n",
       "\n",
       "      <script>\n",
       "        const buttonEl =\n",
       "          document.querySelector('#df-3b9b3678-c85d-4d9f-acb1-a387d6786f59 button.colab-df-convert');\n",
       "        buttonEl.style.display =\n",
       "          google.colab.kernel.accessAllowed ? 'block' : 'none';\n",
       "\n",
       "        async function convertToInteractive(key) {\n",
       "          const element = document.querySelector('#df-3b9b3678-c85d-4d9f-acb1-a387d6786f59');\n",
       "          const dataTable =\n",
       "            await google.colab.kernel.invokeFunction('convertToInteractive',\n",
       "                                                     [key], {});\n",
       "          if (!dataTable) return;\n",
       "\n",
       "          const docLinkHtml = 'Like what you see? Visit the ' +\n",
       "            '<a target=\"_blank\" href=https://colab.research.google.com/notebooks/data_table.ipynb>data table notebook</a>'\n",
       "            + ' to learn more about interactive tables.';\n",
       "          element.innerHTML = '';\n",
       "          dataTable['output_type'] = 'display_data';\n",
       "          await google.colab.output.renderOutput(dataTable, element);\n",
       "          const docLink = document.createElement('div');\n",
       "          docLink.innerHTML = docLinkHtml;\n",
       "          element.appendChild(docLink);\n",
       "        }\n",
       "      </script>\n",
       "    </div>\n",
       "  </div>\n",
       "  "
      ],
      "text/plain": [
       "                Total  Male-Total  M_0-14   M_15-24   M_25-34   M_35-44   \\\n",
       "Comorbidities                                                              \n",
       "Arthritis      518641      183276      410      1255      4859      9836   \n",
       "Asthma         543047      244002    45210     33478     38793     36650   \n",
       "Cancer         179304       85362      618       758      1719      3080   \n",
       "\n",
       "               M_45-54   M_55-64   M_65-74   M_75-84   ...  Female-total  \\\n",
       "Comorbidities                                          ...                 \n",
       "Arthritis         20218     38927     52812     39517  ...        335365   \n",
       "Asthma            29228     24778     20611     11553  ...        299045   \n",
       "Cancer             6378     15458     27387     22150  ...         93942   \n",
       "\n",
       "               F_0-14   F_15-24   F_25-34   F_35-44   F_45-54   F_55-64   \\\n",
       "Comorbidities                                                              \n",
       "Arthritis          447      2041      6777     14795     35893     69851   \n",
       "Asthma           29239     33855     48672     45483     41617     38055   \n",
       "Cancer             478       667      2030      5210     12221     20493   \n",
       "\n",
       "               F_65-74   F_75-84    F_85  \n",
       "Comorbidities                             \n",
       "Arthritis         94887     73573  37101  \n",
       "Asthma            34529     19959   7636  \n",
       "Cancer            26255     18593   7995  \n",
       "\n",
       "[3 rows x 21 columns]"
      ]
     },
     "execution_count": 35,
     "metadata": {},
     "output_type": "execute_result"
    }
   ],
   "source": [
    "df.head(3)"
   ]
  },
  {
   "cell_type": "code",
   "execution_count": 36,
   "metadata": {
    "colab": {
     "base_uri": "https://localhost:8080/",
     "height": 575
    },
    "id": "6907d15c",
    "outputId": "2859b8a1-6f0e-47c3-cbfb-3db1c7d903dc"
   },
   "outputs": [
    {
     "data": {
      "image/png": "[encoded data removed]",
      "text/plain": [
       "<Figure size 720x720 with 1 Axes>"
      ]
     },
     "metadata": {},
     "output_type": "display_data"
    }
   ],
   "source": [
    "\n",
    "plot = df.plot.pie(y='Total', figsize=(10, 10))"
   ]
  },
  {
   "cell_type": "markdown",
   "metadata": {
    "id": "47a76691"
   },
   "source": [
    "## Identify Age imbalance in Comorbidities"
   ]
  },
  {
   "cell_type": "code",
   "execution_count": 37,
   "metadata": {
    "colab": {
     "base_uri": "https://localhost:8080/"
    },
    "id": "ced3ef43",
    "outputId": "00c4e085-d7d5-4836-9163-756132e4f6c7"
   },
   "outputs": [
    {
     "data": {
      "text/plain": [
       "Index(['Arthritis', 'Asthma', 'Cancer', 'Dementia', 'Diabetes', 'HeartDisease',\n",
       "       'KidneyDisease', 'LungCondition', 'MentalHealthCondition', 'Stroke',\n",
       "       'otherLongTermHealthCond', 'NoLongTermHealthCond', 'NotStated',\n",
       "       'Age-Total'],\n",
       "      dtype='object')"
      ]
     },
     "execution_count": 37,
     "metadata": {},
     "output_type": "execute_result"
    }
   ],
   "source": [
    "df_comorbidities_stat.columns"
   ]
  },
  {
   "cell_type": "code",
   "execution_count": 38,
   "metadata": {
    "id": "0ddff43c"
   },
   "outputs": [],
   "source": [
    "df_comorb_age_imb = df_comorbidities_stat.loc[:, ['Asthma', 'Cancer', 'Diabetes','KidneyDisease', 'MentalHealthCondition']]"
   ]
  },
  {
   "cell_type": "code",
   "execution_count": 39,
   "metadata": {
    "colab": {
     "base_uri": "https://localhost:8080/",
     "height": 357
    },
    "id": "1d435472",
    "outputId": "b2e04638-24cc-48f2-feb4-c6d7514d0616"
   },
   "outputs": [
    {
     "data": {
      "image/png": "[encoded data removed]",
      "text/plain": [
       "<Figure size 792x432 with 1 Axes>"
      ]
     },
     "metadata": {},
     "output_type": "display_data"
    }
   ],
   "source": [
    "plot = df_comorbidities_stat.loc[:, ['Asthma']].plot.pie(subplots=True, figsize=(11, 6))"
   ]
  },
  {
   "cell_type": "markdown",
   "metadata": {
    "id": "0cd932c7"
   },
   "source": [
    "### Asthma is shown less in age group greater than 75 yrs"
   ]
  },
  {
   "cell_type": "code",
   "execution_count": 40,
   "metadata": {
    "colab": {
     "base_uri": "https://localhost:8080/",
     "height": 357
    },
    "id": "b1f8e8cf",
    "outputId": "ec938dcf-8cb5-46f5-fa2b-c44fb1b81ce3"
   },
   "outputs": [
    {
     "data": {
      "image/png": "[encoded data removed]",
      "text/plain": [
       "<Figure size 792x432 with 1 Axes>"
      ]
     },
     "metadata": {},
     "output_type": "display_data"
    }
   ],
   "source": [
    "plot = df_comorbidities_stat.loc[:, ['Cancer']].plot.pie(subplots=True, figsize=(11, 6))"
   ]
  },
  {
   "cell_type": "markdown",
   "metadata": {
    "id": "e2d71439"
   },
   "source": [
    "### Cancer is shown less in age group less than 35 yrs"
   ]
  },
  {
   "cell_type": "code",
   "execution_count": 41,
   "metadata": {
    "colab": {
     "base_uri": "https://localhost:8080/",
     "height": 357
    },
    "id": "df54c695",
    "outputId": "cbe83842-e7b3-4863-dd4b-7e5666c40a03"
   },
   "outputs": [
    {
     "data": {
      "image/png": "[encoded data removed]",
      "text/plain": [
       "<Figure size 792x432 with 1 Axes>"
      ]
     },
     "metadata": {},
     "output_type": "display_data"
    }
   ],
   "source": [
    "plot = df_comorbidities_stat.loc[:, ['Diabetes']].plot.pie(subplots=True, figsize=(11, 6))"
   ]
  },
  {
   "cell_type": "markdown",
   "metadata": {
    "id": "f8e0348a"
   },
   "source": [
    "### Diabets is shown less in age group less than 35 yrs"
   ]
  },
  {
   "cell_type": "code",
   "execution_count": 42,
   "metadata": {
    "colab": {
     "base_uri": "https://localhost:8080/",
     "height": 357
    },
    "id": "4ea7b454",
    "outputId": "eab28476-6abe-44c9-db53-de9e19462a5f"
   },
   "outputs": [
    {
     "data": {
      "image/png": "[encoded data removed]",
      "text/plain": [
       "<Figure size 792x432 with 1 Axes>"
      ]
     },
     "metadata": {},
     "output_type": "display_data"
    }
   ],
   "source": [
    "plot = df_comorbidities_stat.loc[:, ['KidneyDisease']].plot.pie(subplots=True, figsize=(11, 6))"
   ]
  },
  {
   "cell_type": "markdown",
   "metadata": {
    "id": "ce6f1d46"
   },
   "source": [
    "### Kidney disease is shown less in age group less than 35 yrs"
   ]
  },
  {
   "cell_type": "code",
   "execution_count": 43,
   "metadata": {
    "colab": {
     "base_uri": "https://localhost:8080/",
     "height": 357
    },
    "id": "44a984bf",
    "outputId": "4b9e55b2-4f87-4d29-fc58-a1d73cfeb962"
   },
   "outputs": [
    {
     "data": {
      "image/png": "[encoded data removed]",
      "text/plain": [
       "<Figure size 792x432 with 1 Axes>"
      ]
     },
     "metadata": {},
     "output_type": "display_data"
    }
   ],
   "source": [
    "plot = df_comorbidities_stat.loc[:, ['MentalHealthCondition']].plot.pie(subplots=True, figsize=(11, 6))"
   ]
  },
  {
   "cell_type": "markdown",
   "metadata": {
    "id": "e9a8275b"
   },
   "source": [
    "### Mental Health Condition is shown less in age group less than 14 yrs and at higher age group  75 yrs and above"
   ]
  },
  {
   "cell_type": "markdown",
   "metadata": {
    "id": "54dfd028"
   },
   "source": [
    "## Identify Gender imbalance in Comorbidities"
   ]
  },
  {
   "cell_type": "code",
   "execution_count": 44,
   "metadata": {
    "colab": {
     "base_uri": "https://localhost:8080/",
     "height": 234
    },
    "id": "07c41cf7",
    "outputId": "edf6d82c-fc24-49c6-8b03-89d7d8baab72"
   },
   "outputs": [
    {
     "data": {
      "text/html": [
       "\n",
       "  <div id=\"df-5e2ad93a-8244-4df2-ad6c-5a9359c4726c\">\n",
       "    <div class=\"colab-df-container\">\n",
       "      <div>\n",
       "<style scoped>\n",
       "    .dataframe tbody tr th:only-of-type {\n",
       "        vertical-align: middle;\n",
       "    }\n",
       "\n",
       "    .dataframe tbody tr th {\n",
       "        vertical-align: top;\n",
       "    }\n",
       "\n",
       "    .dataframe thead th {\n",
       "        text-align: right;\n",
       "    }\n",
       "</style>\n",
       "<table border=\"1\" class=\"dataframe\">\n",
       "  <thead>\n",
       "    <tr style=\"text-align: right;\">\n",
       "      <th></th>\n",
       "      <th>Total</th>\n",
       "      <th>Male-Total</th>\n",
       "      <th>M_0-14</th>\n",
       "      <th>M_15-24</th>\n",
       "      <th>M_25-34</th>\n",
       "      <th>M_35-44</th>\n",
       "      <th>M_45-54</th>\n",
       "      <th>M_55-64</th>\n",
       "      <th>M_65-74</th>\n",
       "      <th>M_75-84</th>\n",
       "      <th>...</th>\n",
       "      <th>Female-total</th>\n",
       "      <th>F_0-14</th>\n",
       "      <th>F_15-24</th>\n",
       "      <th>F_25-34</th>\n",
       "      <th>F_35-44</th>\n",
       "      <th>F_45-54</th>\n",
       "      <th>F_55-64</th>\n",
       "      <th>F_65-74</th>\n",
       "      <th>F_75-84</th>\n",
       "      <th>F_85</th>\n",
       "    </tr>\n",
       "    <tr>\n",
       "      <th>Comorbidities</th>\n",
       "      <th></th>\n",
       "      <th></th>\n",
       "      <th></th>\n",
       "      <th></th>\n",
       "      <th></th>\n",
       "      <th></th>\n",
       "      <th></th>\n",
       "      <th></th>\n",
       "      <th></th>\n",
       "      <th></th>\n",
       "      <th></th>\n",
       "      <th></th>\n",
       "      <th></th>\n",
       "      <th></th>\n",
       "      <th></th>\n",
       "      <th></th>\n",
       "      <th></th>\n",
       "      <th></th>\n",
       "      <th></th>\n",
       "      <th></th>\n",
       "      <th></th>\n",
       "    </tr>\n",
       "  </thead>\n",
       "  <tbody>\n",
       "    <tr>\n",
       "      <th>Arthritis</th>\n",
       "      <td>518641</td>\n",
       "      <td>183276</td>\n",
       "      <td>410</td>\n",
       "      <td>1255</td>\n",
       "      <td>4859</td>\n",
       "      <td>9836</td>\n",
       "      <td>20218</td>\n",
       "      <td>38927</td>\n",
       "      <td>52812</td>\n",
       "      <td>39517</td>\n",
       "      <td>...</td>\n",
       "      <td>335365</td>\n",
       "      <td>447</td>\n",
       "      <td>2041</td>\n",
       "      <td>6777</td>\n",
       "      <td>14795</td>\n",
       "      <td>35893</td>\n",
       "      <td>69851</td>\n",
       "      <td>94887</td>\n",
       "      <td>73573</td>\n",
       "      <td>37101</td>\n",
       "    </tr>\n",
       "    <tr>\n",
       "      <th>Asthma</th>\n",
       "      <td>543047</td>\n",
       "      <td>244002</td>\n",
       "      <td>45210</td>\n",
       "      <td>33478</td>\n",
       "      <td>38793</td>\n",
       "      <td>36650</td>\n",
       "      <td>29228</td>\n",
       "      <td>24778</td>\n",
       "      <td>20611</td>\n",
       "      <td>11553</td>\n",
       "      <td>...</td>\n",
       "      <td>299045</td>\n",
       "      <td>29239</td>\n",
       "      <td>33855</td>\n",
       "      <td>48672</td>\n",
       "      <td>45483</td>\n",
       "      <td>41617</td>\n",
       "      <td>38055</td>\n",
       "      <td>34529</td>\n",
       "      <td>19959</td>\n",
       "      <td>7636</td>\n",
       "    </tr>\n",
       "  </tbody>\n",
       "</table>\n",
       "<p>2 rows × 21 columns</p>\n",
       "</div>\n",
       "      <button class=\"colab-df-convert\" onclick=\"convertToInteractive('df-5e2ad93a-8244-4df2-ad6c-5a9359c4726c')\"\n",
       "              title=\"Convert this dataframe to an interactive table.\"\n",
       "              style=\"display:none;\">\n",
       "        \n",
       "  <svg xmlns=\"http://www.w3.org/2000/svg\" height=\"24px\"viewBox=\"0 0 24 24\"\n",
       "       width=\"24px\">\n",
       "    <path d=\"M0 0h24v24H0V0z\" fill=\"none\"/>\n",
       "    <path d=\"M18.56 5.44l.94 2.06.94-2.06 2.06-.94-2.06-.94-.94-2.06-.94 2.06-2.06.94zm-11 1L8.5 8.5l.94-2.06 2.06-.94-2.06-.94L8.5 2.5l-.94 2.06-2.06.94zm10 10l.94 2.06.94-2.06 2.06-.94-2.06-.94-.94-2.06-.94 2.06-2.06.94z\"/><path d=\"M17.41 7.96l-1.37-1.37c-.4-.4-.92-.59-1.43-.59-.52 0-1.04.2-1.43.59L10.3 9.45l-7.72 7.72c-.78.78-.78 2.05 0 2.83L4 21.41c.39.39.9.59 1.41.59.51 0 1.02-.2 1.41-.59l7.78-7.78 2.81-2.81c.8-.78.8-2.07 0-2.86zM5.41 20L4 18.59l7.72-7.72 1.47 1.35L5.41 20z\"/>\n",
       "  </svg>\n",
       "      </button>\n",
       "      \n",
       "  <style>\n",
       "    .colab-df-container {\n",
       "      display:flex;\n",
       "      flex-wrap:wrap;\n",
       "      gap: 12px;\n",
       "    }\n",
       "\n",
       "    .colab-df-convert {\n",
       "      background-color: #E8F0FE;\n",
       "      border: none;\n",
       "      border-radius: 50%;\n",
       "      cursor: pointer;\n",
       "      display: none;\n",
       "      fill: #1967D2;\n",
       "      height: 32px;\n",
       "      padding: 0 0 0 0;\n",
       "      width: 32px;\n",
       "    }\n",
       "\n",
       "    .colab-df-convert:hover {\n",
       "      background-color: #E2EBFA;\n",
       "      box-shadow: 0px 1px 2px rgba(60, 64, 67, 0.3), 0px 1px 3px 1px rgba(60, 64, 67, 0.15);\n",
       "      fill: #174EA6;\n",
       "    }\n",
       "\n",
       "    [theme=dark] .colab-df-convert {\n",
       "      background-color: #3B4455;\n",
       "      fill: #D2E3FC;\n",
       "    }\n",
       "\n",
       "    [theme=dark] .colab-df-convert:hover {\n",
       "      background-color: #434B5C;\n",
       "      box-shadow: 0px 1px 3px 1px rgba(0, 0, 0, 0.15);\n",
       "      filter: drop-shadow(0px 1px 2px rgba(0, 0, 0, 0.3));\n",
       "      fill: #FFFFFF;\n",
       "    }\n",
       "  </style>\n",
       "\n",
       "      <script>\n",
       "        const buttonEl =\n",
       "          document.querySelector('#df-5e2ad93a-8244-4df2-ad6c-5a9359c4726c button.colab-df-convert');\n",
       "        buttonEl.style.display =\n",
       "          google.colab.kernel.accessAllowed ? 'block' : 'none';\n",
       "\n",
       "        async function convertToInteractive(key) {\n",
       "          const element = document.querySelector('#df-5e2ad93a-8244-4df2-ad6c-5a9359c4726c');\n",
       "          const dataTable =\n",
       "            await google.colab.kernel.invokeFunction('convertToInteractive',\n",
       "                                                     [key], {});\n",
       "          if (!dataTable) return;\n",
       "\n",
       "          const docLinkHtml = 'Like what you see? Visit the ' +\n",
       "            '<a target=\"_blank\" href=https://colab.research.google.com/notebooks/data_table.ipynb>data table notebook</a>'\n",
       "            + ' to learn more about interactive tables.';\n",
       "          element.innerHTML = '';\n",
       "          dataTable['output_type'] = 'display_data';\n",
       "          await google.colab.output.renderOutput(dataTable, element);\n",
       "          const docLink = document.createElement('div');\n",
       "          docLink.innerHTML = docLinkHtml;\n",
       "          element.appendChild(docLink);\n",
       "        }\n",
       "      </script>\n",
       "    </div>\n",
       "  </div>\n",
       "  "
      ],
      "text/plain": [
       "                Total  Male-Total  M_0-14   M_15-24   M_25-34   M_35-44   \\\n",
       "Comorbidities                                                              \n",
       "Arthritis      518641      183276      410      1255      4859      9836   \n",
       "Asthma         543047      244002    45210     33478     38793     36650   \n",
       "\n",
       "               M_45-54   M_55-64   M_65-74   M_75-84   ...  Female-total  \\\n",
       "Comorbidities                                          ...                 \n",
       "Arthritis         20218     38927     52812     39517  ...        335365   \n",
       "Asthma            29228     24778     20611     11553  ...        299045   \n",
       "\n",
       "               F_0-14   F_15-24   F_25-34   F_35-44   F_45-54   F_55-64   \\\n",
       "Comorbidities                                                              \n",
       "Arthritis          447      2041      6777     14795     35893     69851   \n",
       "Asthma           29239     33855     48672     45483     41617     38055   \n",
       "\n",
       "               F_65-74   F_75-84    F_85  \n",
       "Comorbidities                             \n",
       "Arthritis         94887     73573  37101  \n",
       "Asthma            34529     19959   7636  \n",
       "\n",
       "[2 rows x 21 columns]"
      ]
     },
     "execution_count": 44,
     "metadata": {},
     "output_type": "execute_result"
    }
   ],
   "source": [
    "df.head(2)"
   ]
  },
  {
   "cell_type": "code",
   "execution_count": 45,
   "metadata": {
    "id": "525be24b"
   },
   "outputs": [],
   "source": [
    "#Selecting dataset for gender imbalance\n",
    "df_gender_imbalance = df.loc[:, ['Male-Total','Female-total']]"
   ]
  },
  {
   "cell_type": "code",
   "execution_count": 46,
   "metadata": {
    "id": "fd6cd744"
   },
   "outputs": [],
   "source": [
    "df_gender = df_gender_imbalance.transpose()"
   ]
  },
  {
   "cell_type": "code",
   "execution_count": 47,
   "metadata": {
    "colab": {
     "base_uri": "https://localhost:8080/"
    },
    "id": "bb8ab455",
    "outputId": "7d051400-7065-4595-b683-53595cc7a449"
   },
   "outputs": [
    {
     "data": {
      "text/plain": [
       "Index(['Arthritis ', 'Asthma ', 'Cancer', 'Dementia', 'Diabetes',\n",
       "       'Heartdisease', 'KidneyDisease ', 'LungCondition',\n",
       "       'MentalHealthCcondition', 'Stroke', 'OtherLongTermHhealthCond',\n",
       "       'NoLongTermHhealthCond', 'NotStated'],\n",
       "      dtype='object', name='Comorbidities')"
      ]
     },
     "execution_count": 47,
     "metadata": {},
     "output_type": "execute_result"
    }
   ],
   "source": [
    "df_gender.columns"
   ]
  },
  {
   "cell_type": "code",
   "execution_count": 47,
   "metadata": {
    "id": "cfb32240"
   },
   "outputs": [],
   "source": []
  },
  {
   "cell_type": "code",
   "execution_count": 48,
   "metadata": {
    "colab": {
     "base_uri": "https://localhost:8080/",
     "height": 357
    },
    "id": "c95afaa8",
    "outputId": "28984e58-005d-4c46-f36c-bb737a1ad5d8"
   },
   "outputs": [
    {
     "data": {
      "image/png": "[encoded data removed]",
      "text/plain": [
       "<Figure size 792x432 with 1 Axes>"
      ]
     },
     "metadata": {},
     "output_type": "display_data"
    }
   ],
   "source": [
    "plot = df_gender.loc[:, ['Asthma ']].plot.pie(subplots=True, figsize=(11, 6))"
   ]
  },
  {
   "cell_type": "markdown",
   "metadata": {
    "id": "c9904ec6"
   },
   "source": [
    "### Asthma is shown less in Males but not imbalanced"
   ]
  },
  {
   "cell_type": "code",
   "execution_count": 49,
   "metadata": {
    "colab": {
     "base_uri": "https://localhost:8080/",
     "height": 357
    },
    "id": "5a422500",
    "outputId": "5af6b57e-7803-408b-fbf6-af37607b1ace"
   },
   "outputs": [
    {
     "data": {
      "image/png": "[encoded data removed]",
      "text/plain": [
       "<Figure size 792x432 with 1 Axes>"
      ]
     },
     "metadata": {},
     "output_type": "display_data"
    }
   ],
   "source": [
    "plot = df_gender.loc[:, ['Diabetes']].plot.pie(subplots=True, figsize=(11, 6))"
   ]
  },
  {
   "cell_type": "markdown",
   "metadata": {
    "id": "c4f7ac29"
   },
   "source": [
    "### Diabetes is in equal propotion in Males and Females"
   ]
  },
  {
   "cell_type": "code",
   "execution_count": 50,
   "metadata": {
    "colab": {
     "base_uri": "https://localhost:8080/",
     "height": 357
    },
    "id": "c2313f84",
    "outputId": "1fcd613c-eae4-488e-cc79-6068b828e369"
   },
   "outputs": [
    {
     "data": {
      "image/png": "[encoded data removed]",
      "text/plain": [
       "<Figure size 792x432 with 1 Axes>"
      ]
     },
     "metadata": {},
     "output_type": "display_data"
    }
   ],
   "source": [
    "plot = df_gender.loc[:, ['Cancer']].plot.pie(subplots=True, figsize=(11, 6))"
   ]
  },
  {
   "cell_type": "markdown",
   "metadata": {
    "id": "401af05f"
   },
   "source": [
    "### Cancer is in ~equal propotion in Males and Females"
   ]
  },
  {
   "cell_type": "code",
   "execution_count": 51,
   "metadata": {
    "colab": {
     "base_uri": "https://localhost:8080/",
     "height": 357
    },
    "id": "47359731",
    "outputId": "1385e96b-98ac-4cb1-b12c-41c44986b665"
   },
   "outputs": [
    {
     "data": {
      "image/png": "[encoded data removed]",
      "text/plain": [
       "<Figure size 792x432 with 1 Axes>"
      ]
     },
     "metadata": {},
     "output_type": "display_data"
    }
   ],
   "source": [
    "plot = df_gender.loc[:, ['KidneyDisease ']].plot.pie(subplots=True, figsize=(11, 6))"
   ]
  },
  {
   "cell_type": "markdown",
   "metadata": {
    "id": "fff876f2"
   },
   "source": [
    "### Kidney Disease is in ~equal propotion in Males and Females"
   ]
  },
  {
   "cell_type": "code",
   "execution_count": 52,
   "metadata": {
    "colab": {
     "base_uri": "https://localhost:8080/",
     "height": 357
    },
    "id": "7789b3b1",
    "outputId": "fc674333-8baf-4eb1-a7e8-4bca8fbce03a"
   },
   "outputs": [
    {
     "data": {
      "image/png": "[encoded data removed]",
      "text/plain": [
       "<Figure size 792x432 with 1 Axes>"
      ]
     },
     "metadata": {},
     "output_type": "display_data"
    }
   ],
   "source": [
    "plot = df_gender.loc[:, ['MentalHealthCcondition']].plot.pie(subplots=True, figsize=(11, 6))"
   ]
  },
  {
   "cell_type": "markdown",
   "metadata": {
    "id": "f1aca905"
   },
   "source": [
    "### Mental Health Condition is shown more in Femnale population"
   ]
  },
  {
   "cell_type": "code",
   "execution_count": 52,
   "metadata": {
    "id": "f9226bd0"
   },
   "outputs": [],
   "source": []
  },
  {
   "cell_type": "code",
   "execution_count": 52,
   "metadata": {
    "id": "ca78708b"
   },
   "outputs": [],
   "source": []
  },
  {
   "cell_type": "code",
   "execution_count": 52,
   "metadata": {
    "id": "4ae6efed"
   },
   "outputs": [],
   "source": []
  },
  {
   "cell_type": "code",
   "execution_count": 52,
   "metadata": {
    "id": "fa68e9d0"
   },
   "outputs": [],
   "source": []
  }
 ],
 "metadata": {
  "colab": {
   "provenance": [],
   "toc_visible": true
  },
  "kernelspec": {
   "display_name": "Python 3",
   "language": "python",
   "name": "python3"
  },
  "language_info": {
   "codemirror_mode": {
    "name": "ipython",
    "version": 3
   },
   "file_extension": ".py",
   "mimetype": "text/x-python",
   "name": "python",
   "nbconvert_exporter": "python",
   "pygments_lexer": "ipython3",
   "version": "3.7.6"
  }
 },
 "nbformat": 4,
 "nbformat_minor": 5
}
